{
 "cells": [
  {
   "cell_type": "code",
   "execution_count": 190,
   "metadata": {},
   "outputs": [],
   "source": [
    "import numpy as np\n",
    "import pandas as pd\n",
    "import os\n",
    "import matplotlib.pyplot as plt\n",
    "import re\n",
    "import operator\n",
    "from sklearn.feature_extraction.text import CountVectorizer, TfidfVectorizer\n",
    "from sklearn.decomposition import TruncatedSVD\n",
    "from sklearn.preprocessing import Normalizer\n",
    "from gensim.corpora.dictionary import Dictionary\n",
    "from gensim import models\n",
    "from gensim.models.coherencemodel import CoherenceModel\n",
    "from nltk.tokenize import RegexpTokenizer\n",
    "from nltk.stem import WordNetLemmatizer\n",
    "from nltk.corpus import stopwords\n",
    "from nltk.stem.porter import PorterStemmer\n",
    "wnl = WordNetLemmatizer()"
   ]
  },
  {
   "cell_type": "code",
   "execution_count": 191,
   "metadata": {},
   "outputs": [],
   "source": [
    "df = pd.read_excel(r'C:\\Users\\Yunseok Choi\\Google 드라이브\\기술경영대학원\\STEPI\\AI_Education_PUB_country.xlsx', index_col = 0)\n",
    "df.dropna(subset = ['Publication Year','Abstract'], inplace = True)"
   ]
  },
  {
   "cell_type": "code",
   "execution_count": 192,
   "metadata": {},
   "outputs": [],
   "source": [
    "stword = stopwords.words('english')\n",
    "#Stopword 추가\n",
    "stword_add = ['one','two','three','four','five','six','seven','eight','nine','ten', 'increasing','decreasing',\n",
    "              'half','must','say','said','able','therefore','higher','lower','better','asking','largerst','smallest','come',\n",
    "             'th','highest','lowest','whatever','help','v','c','high','low','iii','i','ii','iv','v','vi','vii','viii','every',\n",
    "             'first','second','third','fourth','fifth','sixth','seventh','eighth', 'also', 'table', 'fig']\n",
    "stword.extend(stword_add)\n",
    "stword.extend(['de','however','use','used','de'])\n",
    "stword.extend(['big','small'])"
   ]
  },
  {
   "cell_type": "code",
   "execution_count": 193,
   "metadata": {},
   "outputs": [],
   "source": [
    "def text_extraction(min_year = 2000,max_year = 2020,country_name = '', data = df):\n",
    "    i = 0\n",
    "    cps_name, cps_data = [], []\n",
    "    if country_name == '':\n",
    "        for item in df[(df['Publication Year'] <= max_year) & (df['Publication Year'] >= min_year)]['Abstract']:\n",
    "            globals()['cps{}'.format(i)] = item.lower()\n",
    "            cps_name.append('cps{}'.format(i))\n",
    "            cps_data.append(globals()['cps{}'.format(i)])\n",
    "            i += 1\n",
    "    if country_name != '':\n",
    "        for item in df[(df['Publication Year'] <= max_year) & (df['Publication Year'] >= min_year) & (df['Country'] == country_name)]['Abstract']:\n",
    "            globals()['cps{}'.format(i)] = item.lower()\n",
    "            cps_name.append('cps{}'.format(i))\n",
    "            cps_data.append(globals()['cps{}'.format(i)])\n",
    "            i += 1\n",
    "    return cps_name, cps_data"
   ]
  },
  {
   "cell_type": "code",
   "execution_count": 194,
   "metadata": {},
   "outputs": [],
   "source": [
    "#Defining functino for plotting with word frequency limitation as input.\n",
    "def coherence_score(limit, passes = 15, cps_data = cps_data):\n",
    "    tokenizer = RegexpTokenizer('\\w+')\n",
    "    p_stemmer = PorterStemmer()\n",
    "    texts = []\n",
    "    for item in cps_data:\n",
    "        #corpus 속 숫자 제거\n",
    "        temp = re.sub('[0-9]+','',item)\n",
    "        tokens = tokenizer.tokenize(temp)\n",
    "        #1글자로 이루어진 단어 제거\n",
    "        tokens_overone = [word for word in tokens if len(word) > 1]\n",
    "        #stopword 제거\n",
    "        stopped_tokens = [i for i in tokens_overone if not i in stword]    \n",
    "        # ing형 제거\n",
    "        noning_tokens = [word for word in stopped_tokens if (re.findall('ing$', word) == [])]\n",
    "        # ly형 제거\n",
    "        nonly_tokens = [word for word in noning_tokens if (re.findall('ly$', word) == [])]\n",
    "        #각 단어 표제화\n",
    "        lemmatized_words = [wnl.lemmatize(i) for i in nonly_tokens]\n",
    "        texts.append(lemmatized_words)\n",
    "\n",
    "    frequency = {}\n",
    "    for corpus in texts:\n",
    "        for word in corpus:\n",
    "            if word in frequency.keys():\n",
    "                frequency[word] +=1\n",
    "            else:\n",
    "                frequency[word] = 1\n",
    "    texts_filtered = [ [token for token in text if (1 < frequency[token] < limit) ] for text in texts ]\n",
    "\n",
    "    #표제화된 단어들을 이용하여 document-term 테이블 생성\n",
    "    dictionary = Dictionary(texts_filtered)\n",
    "    docfreq = dictionary.dfs\n",
    "    doc_term_matrix = [dictionary.doc2bow(i) for i in texts]\n",
    "\n",
    "    #토픽의 개수별 gensim LDA 모델의 coherence score 체크\n",
    "    coherence_values = []\n",
    "    model_list = []\n",
    "    for n_topics in range(2,30,1):\n",
    "        model = models.ldamodel.LdaModel(corpus=doc_term_matrix, num_topics = n_topics, id2word = dictionary, \n",
    "                                         passes=passes, alpha = 'symmetric', iterations = 10)\n",
    "        model_list.append(model)\n",
    "        coherencemodel = CoherenceModel(model = model, texts = texts, dictionary = dictionary, coherence = 'c_v')\n",
    "        coherence_values.append(coherencemodel.get_coherence())\n",
    "\n",
    "    x = range(2,30,1)\n",
    "    plt.plot(x, coherence_values)\n",
    "    plt.title('Coherence Score of LDA (< {} Counts)'.format(limit))\n",
    "    plt.xlabel('Number of Topics')\n",
    "    plt.ylabel('Coherence Score')\n",
    "    plt.legend(('coherence_values'),loc = 'best')\n",
    "    return plt.show()"
   ]
  },
  {
   "cell_type": "code",
   "execution_count": 195,
   "metadata": {},
   "outputs": [],
   "source": [
    "#defining print function of showing 15 keywords and document-topic information, \n",
    "#having word frequency limit and number of topics as input.\n",
    "def lda_analysis(limit, num_tps):\n",
    "    \n",
    "    frequency = {}\n",
    "    for corpus in texts:\n",
    "        for word in corpus:\n",
    "            if word in frequency.keys():\n",
    "                frequency[word] +=1\n",
    "            else:\n",
    "                frequency[word] = 1\n",
    "    texts_filtered = [ [token for token in text if (1 < frequency[token]<limit)] for text in texts ]\n",
    "\n",
    "    #표제화된 단어들을 이용하여 document-term 테이블 생성\n",
    "    dictionary = Dictionary(texts_filtered)\n",
    "    docfreq = dictionary.dfs\n",
    "    doc_term_matrix = [dictionary.doc2bow(i) for i in texts]\n",
    "\n",
    "    ldaModel = models.ldamodel.LdaModel(corpus=doc_term_matrix, num_topics = num_tps, id2word = dictionary, \n",
    "                                        passes=15, alpha = 'symmetric', iterations = 10)\n",
    "    ldaTopics = ldaModel.print_topics(num_topics = num_tps, num_words = 15)\n",
    "    temp = []\n",
    "    for i in range(len(ldaTopics)):\n",
    "        string = ''\n",
    "        for item in ldaTopics[i][1].split('+'):\n",
    "            string += (item.split('*')[1].replace(r'\"','') + '')\n",
    "        temp.append(['Topic ' + str(ldaTopics[i][0])] + [string.replace(' ',', ')])\n",
    "    print(temp)\n",
    "    for i in range(len(doc_term_matrix)):\n",
    "        print(ldaModel[doc_term_matrix[i]])"
   ]
  },
  {
   "cell_type": "markdown",
   "metadata": {},
   "source": [
    "## 2010~2020, 전체 데이터"
   ]
  },
  {
   "cell_type": "code",
   "execution_count": 206,
   "metadata": {},
   "outputs": [],
   "source": [
    "cps_name, cps_data = text_extraction(2010,2020)"
   ]
  },
  {
   "cell_type": "code",
   "execution_count": 207,
   "metadata": {},
   "outputs": [],
   "source": [
    "#Corpus별 표제어(lemmatization) 추출\n",
    "tokenizer = RegexpTokenizer('\\w+')\n",
    "p_stemmer = PorterStemmer()\n",
    "texts = []\n",
    "for item in cps_data:\n",
    "    #corpus 속 숫자 제거\n",
    "    temp = re.sub('[0-9]+','',item)\n",
    "    tokens = tokenizer.tokenize(temp)\n",
    "    #1글자로 이루어진 단어 제거\n",
    "    tokens_overone = [word for word in tokens if len(word) > 1]\n",
    "    #stopword 제거\n",
    "    stopped_tokens = [i for i in tokens_overone if not i in stword]    \n",
    "    # ing형 제거\n",
    "    noning_tokens = [word for word in stopped_tokens if (re.findall('ing$', word) == [])]\n",
    "    # ly형 제거\n",
    "    nonly_tokens = [word for word in noning_tokens if (re.findall('ly$', word) == [])]\n",
    "    #각 단어 표제화\n",
    "    lemmatized_words = [wnl.lemmatize(i) for i in nonly_tokens]\n",
    "    texts.append(lemmatized_words)\n",
    "\n",
    "frequency = {}\n",
    "for corpus in texts:\n",
    "    for word in corpus:\n",
    "        if word in frequency.keys():\n",
    "            frequency[word] +=1\n",
    "        else:\n",
    "            frequency[word] = 1\n",
    "texts_filtered = [ [token for token in text if (1 < frequency[token]) ] for text in texts ]\n",
    "\n",
    "#표제화된 단어들을 이용하여 document-term 테이블 생성\n",
    "dictionary = Dictionary(texts_filtered)\n",
    "docfreq = dictionary.dfs\n",
    "doc_term_matrix = [dictionary.doc2bow(i) for i in texts]"
   ]
  },
  {
   "cell_type": "code",
   "execution_count": 40,
   "metadata": {
    "scrolled": true
   },
   "outputs": [
    {
     "name": "stdout",
     "output_type": "stream",
     "text": [
      "15929\n"
     ]
    },
    {
     "data": {
      "text/plain": [
       "Text(0, 0.5, 'Frequency')"
      ]
     },
     "execution_count": 40,
     "metadata": {},
     "output_type": "execute_result"
    },
    {
     "data": {
      "image/png": "[encoded data removed]",
      "text/plain": [
       "<Figure size 432x288 with 1 Axes>"
      ]
     },
     "metadata": {
      "needs_background": "light"
     },
     "output_type": "display_data"
    }
   ],
   "source": [
    "#Cheking the freqeuency distribution with all words.\n",
    "term_dic = {}\n",
    "for texts in doc_term_matrix:\n",
    "    for item in texts:\n",
    "        if item[0] in term_dic.keys():\n",
    "            term_dic[item[0]] += item[1]\n",
    "        else:\n",
    "            term_dic[item[0]] = 1\n",
    "term_dic_sorted = sorted(term_dic.items(), key = operator.itemgetter(1))\n",
    "x , y = [] ,[]\n",
    "for i in range(len(term_dic_sorted)):\n",
    "    y.append(term_dic_sorted[i][1])\n",
    "    x.append(i)\n",
    "print(len(term_dic_sorted))\n",
    "plt.plot(x,y, '.')\n",
    "plt.title('Frequency Distribution')\n",
    "plt.xlabel('Words')\n",
    "plt.ylabel('Frequency')"
   ]
  },
  {
   "cell_type": "code",
   "execution_count": 200,
   "metadata": {},
   "outputs": [
    {
     "data": {
      "text/plain": [
       "9920"
      ]
     },
     "execution_count": 200,
     "metadata": {},
     "output_type": "execute_result"
    }
   ],
   "source": [
    "len(cps_data)"
   ]
  },
  {
   "cell_type": "code",
   "execution_count": 41,
   "metadata": {},
   "outputs": [
    {
     "name": "stdout",
     "output_type": "stream",
     "text": [
      "student 28921\n",
      "data 11272\n",
      "study 9980\n",
      "education 9954\n",
      "teacher 7315\n",
      "based 6635\n",
      "research 6553\n",
      "approach 6093\n",
      "result 6030\n",
      "model 5937\n",
      "system 5708\n",
      "university 5558\n",
      "method 5339\n",
      "school 5284\n",
      "paper 5255\n",
      "course 5163\n",
      "analysis 4535\n",
      "process 4393\n",
      "knowledge 4377\n",
      "technology 4343\n",
      "development 3974\n",
      "deep 3745\n",
      "educational 3668\n",
      "new 3553\n",
      "design 3427\n",
      "level 3365\n",
      "information 3362\n",
      "machine 3249\n",
      "experience 3209\n",
      "performance 3153\n"
     ]
    }
   ],
   "source": [
    "for item in sorted(term_dic.items(), key = operator.itemgetter(1), reverse = True)[0:30]:\n",
    "    print(dictionary[item[0]], item[1])"
   ]
  },
  {
   "cell_type": "code",
   "execution_count": 208,
   "metadata": {
    "scrolled": true
   },
   "outputs": [
    {
     "data": {
      "image/png": "[encoded data removed]",
      "text/plain": [
       "<Figure size 432x288 with 1 Axes>"
      ]
     },
     "metadata": {
      "needs_background": "light"
     },
     "output_type": "display_data"
    }
   ],
   "source": [
    "coherence_score(8000, 10)"
   ]
  },
  {
   "cell_type": "code",
   "execution_count": 210,
   "metadata": {},
   "outputs": [],
   "source": [
    "#Corpus별 표제어(lemmatization) 추출\n",
    "tokenizer = RegexpTokenizer('\\w+')\n",
    "p_stemmer = PorterStemmer()\n",
    "texts = []\n",
    "for item in cps_data:\n",
    "    #corpus 속 숫자 제거\n",
    "    temp = re.sub('[0-9]+','',item)\n",
    "    tokens = tokenizer.tokenize(temp)\n",
    "    #1글자로 이루어진 단어 제거\n",
    "    tokens_overone = [word for word in tokens if len(word) > 1]\n",
    "    #stopword 제거\n",
    "    stopped_tokens = [i for i in tokens_overone if not i in stword]    \n",
    "    # ing형 제거\n",
    "    noning_tokens = [word for word in stopped_tokens if (re.findall('ing$', word) == [])]\n",
    "    # ly형 제거\n",
    "    nonly_tokens = [word for word in noning_tokens if (re.findall('ly$', word) == [])]\n",
    "    #각 단어 표제화\n",
    "    lemmatized_words = [wnl.lemmatize(i) for i in nonly_tokens]\n",
    "    #filtered_words = [word for word in lemmatized_words if not word in filter_words]\n",
    "    texts.append(lemmatized_words)\n",
    "\n",
    "\n",
    "limit = 8000\n",
    "num_tps = 5\n",
    "frequency = {}\n",
    "for corpus in texts:\n",
    "    for word in corpus:\n",
    "        if word in frequency.keys():\n",
    "            frequency[word] +=1\n",
    "        else:\n",
    "            frequency[word] = 1\n",
    "texts_filtered = [ [token for token in text if (1 < frequency[token]<limit)] for text in texts ]\n",
    "\n",
    "#표제화된 단어들을 이용하여 document-term 테이블 생성\n",
    "dictionary = Dictionary(texts_filtered)\n",
    "docfreq = dictionary.dfs\n",
    "doc_term_matrix = [dictionary.doc2bow(i) for i in texts]\n",
    "\n",
    "ldaModel = models.ldamodel.LdaModel(corpus=doc_term_matrix, num_topics = num_tps, id2word = dictionary, \n",
    "                                    passes=15, alpha = 'symmetric', iterations = 10)\n",
    "ldaTopics = ldaModel.print_topics(num_topics = num_tps, num_words = 15)\n",
    "keywords = []\n",
    "for i in range(len(ldaTopics)):\n",
    "    string = ''\n",
    "    for item in ldaTopics[i][1].split('+'):\n",
    "        string += (item.split('*')[1].replace(r'\"','') + '')\n",
    "    keywords.append(['Topic ' + str(ldaTopics[i][0])] + [string.replace(' ',', ')])\n",
    "topic_ratio = []\n",
    "for i in range(len(doc_term_matrix)):\n",
    "    topic_ratio.append(ldaModel[doc_term_matrix[i]])"
   ]
  },
  {
   "cell_type": "code",
   "execution_count": 213,
   "metadata": {},
   "outputs": [
    {
     "data": {
      "text/plain": [
       "[['Topic 0',\n",
       "  'system, course, based, machine, design, paper, tool, online, application, knowledge, technology, process, computer, problem, user'],\n",
       " ['Topic 1',\n",
       "  'model, network, performance, result, method, algorithm, neural, based, proposed, machine, feature, analysis, accuracy, prediction, paper'],\n",
       " ['Topic 2',\n",
       "  'university, technology, development, new, language, information, college, research, educational, paper, english, skill, process, management, knowledge'],\n",
       " ['Topic 3',\n",
       "  'teacher, school, research, experience, practice, approach, social, deeper, knowledge, process, science, finding, context, development, based'],\n",
       " ['Topic 4',\n",
       "  'approach, group, result, year, deep, medical, self, questionnaire, health, level, test, course, method, assessment, academic']]"
      ]
     },
     "execution_count": 213,
     "metadata": {},
     "output_type": "execute_result"
    }
   ],
   "source": [
    "keywords"
   ]
  },
  {
   "cell_type": "code",
   "execution_count": 216,
   "metadata": {},
   "outputs": [],
   "source": [
    "stword.extend(['year','paper','new'])"
   ]
  },
  {
   "cell_type": "code",
   "execution_count": 217,
   "metadata": {},
   "outputs": [],
   "source": [
    "df_filtered = df[(df['Publication Year'] <= 2020) & (df['Publication Year'] >= 2010)]\n",
    "df_filtered.reset_index(inplace = True)"
   ]
  },
  {
   "cell_type": "code",
   "execution_count": 218,
   "metadata": {},
   "outputs": [],
   "source": [
    "usa_index = df_filtered[df_filtered['Country'] == 'USA'].index"
   ]
  },
  {
   "cell_type": "code",
   "execution_count": 219,
   "metadata": {},
   "outputs": [
    {
     "data": {
      "text/plain": [
       "{0: 0.24414562622259836,\n",
       " 1: 0.15141808007948943,\n",
       " 2: 0.19742312706376036,\n",
       " 3: 0.2547533583676165,\n",
       " 4: 0.14712933164649464,\n",
       " 5: 0.0,\n",
       " 6: 0.0,\n",
       " 7: 0.0,\n",
       " 8: 0.0,\n",
       " 9: 0.0,\n",
       " 10: 0.0}"
      ]
     },
     "execution_count": 219,
     "metadata": {},
     "output_type": "execute_result"
    }
   ],
   "source": [
    "topic_ratio_all = {0:0,1:0,2:0,3:0,4:0,5:0,6:0,7:0,8:0,9:0,10:0}\n",
    "for index in range(0,df_filtered.shape[0],1):\n",
    "    for item in topic_ratio[index]:\n",
    "        topic_ratio_all[item[0]] += item[1]\n",
    "for index in topic_ratio_all.keys():\n",
    "    topic_ratio_all[index] = topic_ratio_all[index]/df_filtered.shape[0]\n",
    "topic_ratio_all"
   ]
  },
  {
   "cell_type": "code",
   "execution_count": 220,
   "metadata": {},
   "outputs": [
    {
     "data": {
      "text/plain": [
       "{0: 0.2771550291516912,\n",
       " 1: 0.11324914308091831,\n",
       " 2: 0.08950994245242327,\n",
       " 3: 0.3462945848864657,\n",
       " 4: 0.16874943916480817,\n",
       " 5: 0.0,\n",
       " 6: 0.0,\n",
       " 7: 0.0,\n",
       " 8: 0.0,\n",
       " 9: 0.0,\n",
       " 10: 0.0}"
      ]
     },
     "execution_count": 220,
     "metadata": {},
     "output_type": "execute_result"
    }
   ],
   "source": [
    "topic_ratio_usa = {0:0,1:0,2:0,3:0,4:0,5:0,6:0,7:0,8:0,9:0,10:0}\n",
    "for index in usa_index:\n",
    "    for item in topic_ratio[index]:\n",
    "        topic_ratio_usa[item[0]] += item[1]\n",
    "for index in topic_ratio_usa.keys():\n",
    "    topic_ratio_usa[index] = topic_ratio_usa[index]/len(usa_index)\n",
    "topic_ratio_usa"
   ]
  },
  {
   "cell_type": "code",
   "execution_count": 221,
   "metadata": {},
   "outputs": [],
   "source": [
    "china_index = df_filtered[df_filtered['Country'] == 'China'].index"
   ]
  },
  {
   "cell_type": "code",
   "execution_count": 222,
   "metadata": {},
   "outputs": [
    {
     "data": {
      "text/plain": [
       "{0: 0.2055646137951607,\n",
       " 1: 0.23616244580734114,\n",
       " 2: 0.4213083456503534,\n",
       " 3: 0.07127615433475874,\n",
       " 4: 0.05830680601524584,\n",
       " 5: 0.0,\n",
       " 6: 0.0,\n",
       " 7: 0.0,\n",
       " 8: 0.0,\n",
       " 9: 0.0,\n",
       " 10: 0.0}"
      ]
     },
     "execution_count": 222,
     "metadata": {},
     "output_type": "execute_result"
    }
   ],
   "source": [
    "topic_ratio_china = {0:0,1:0,2:0,3:0,4:0,5:0,6:0,7:0,8:0,9:0,10:0}\n",
    "for index in china_index:\n",
    "    for item in topic_ratio[index]:\n",
    "        topic_ratio_china[item[0]] += item[1]\n",
    "for index in topic_ratio_china.keys():\n",
    "    topic_ratio_china[index] = topic_ratio_china[index]/len(china_index)\n",
    "topic_ratio_china"
   ]
  },
  {
   "cell_type": "code",
   "execution_count": 223,
   "metadata": {},
   "outputs": [
    {
     "data": {
      "text/plain": [
       "1518"
      ]
     },
     "execution_count": 223,
     "metadata": {},
     "output_type": "execute_result"
    }
   ],
   "source": [
    "len(china_index)"
   ]
  },
  {
   "cell_type": "code",
   "execution_count": 224,
   "metadata": {},
   "outputs": [
    {
     "data": {
      "text/plain": [
       "1744"
      ]
     },
     "execution_count": 224,
     "metadata": {},
     "output_type": "execute_result"
    }
   ],
   "source": [
    "len(usa_index)"
   ]
  },
  {
   "cell_type": "markdown",
   "metadata": {},
   "source": [
    "## USA Topic Modeling"
   ]
  },
  {
   "cell_type": "code",
   "execution_count": 228,
   "metadata": {},
   "outputs": [],
   "source": [
    "i = 0\n",
    "cps_name, cps_data = [], []\n",
    "for item in df_filtered[df_filtered['Country'] == 'USA']['Abstract']:\n",
    "    globals()['cps{}'.format(i)] = item.lower()\n",
    "    cps_name.append('cps{}'.format(i))\n",
    "    cps_data.append(globals()['cps{}'.format(i)])\n",
    "    i += 1"
   ]
  },
  {
   "cell_type": "code",
   "execution_count": 226,
   "metadata": {},
   "outputs": [],
   "source": [
    "#Corpus별 표제어(lemmatization) 추출\n",
    "tokenizer = RegexpTokenizer('\\w+')\n",
    "p_stemmer = PorterStemmer()\n",
    "texts = []\n",
    "for item in cps_data:\n",
    "    #corpus 속 숫자 제거\n",
    "    temp = re.sub('[0-9]+','',item)\n",
    "    tokens = tokenizer.tokenize(temp)\n",
    "    #1글자로 이루어진 단어 제거\n",
    "    tokens_overone = [word for word in tokens if (len(word) > 1)]\n",
    "    #stopword 제거\n",
    "    stopped_tokens = [i for i in tokens_overone if not i in stword]    \n",
    "    # ing형 제거\n",
    "    noning_tokens = [word for word in stopped_tokens if (re.findall('ing$', word) == [])]\n",
    "    # ly형 제거\n",
    "    nonly_tokens = [word for word in noning_tokens if (re.findall('ly$', word) == [])]\n",
    "    #각 단어 표제화\n",
    "    lemmatized_words = [wnl.lemmatize(i) for i in nonly_tokens]\n",
    "    texts.append(lemmatized_words)\n",
    "\n",
    "frequency = {}\n",
    "for corpus in texts:\n",
    "    for word in corpus:\n",
    "        if word in frequency.keys():\n",
    "            frequency[word] +=1\n",
    "        else:\n",
    "            frequency[word] = 1\n",
    "texts_filtered = [ [token for token in text if (1 < frequency[token]) ] for text in texts ]\n",
    "\n",
    "#표제화된 단어들을 이용하여 document-term 테이블 생성\n",
    "dictionary = Dictionary(texts_filtered)\n",
    "docfreq = dictionary.dfs\n",
    "doc_term_matrix = [dictionary.doc2bow(i) for i in texts]"
   ]
  },
  {
   "cell_type": "code",
   "execution_count": 63,
   "metadata": {
    "scrolled": true
   },
   "outputs": [
    {
     "name": "stdout",
     "output_type": "stream",
     "text": [
      "6951\n"
     ]
    },
    {
     "data": {
      "text/plain": [
       "Text(0, 0.5, 'Frequency')"
      ]
     },
     "execution_count": 63,
     "metadata": {},
     "output_type": "execute_result"
    },
    {
     "data": {
      "image/png": "[encoded data removed]",
      "text/plain": [
       "<Figure size 432x288 with 1 Axes>"
      ]
     },
     "metadata": {
      "needs_background": "light"
     },
     "output_type": "display_data"
    }
   ],
   "source": [
    "#Cheking the freqeuency distribution with all words.\n",
    "term_dic = {}\n",
    "for texts in doc_term_matrix:\n",
    "    for item in texts:\n",
    "        if item[0] in term_dic.keys():\n",
    "            term_dic[item[0]] += item[1]\n",
    "        else:\n",
    "            term_dic[item[0]] = 1\n",
    "term_dic_sorted = sorted(term_dic.items(), key = operator.itemgetter(1))\n",
    "x , y = [] ,[]\n",
    "for i in range(len(term_dic_sorted)):\n",
    "    y.append(term_dic_sorted[i][1])\n",
    "    x.append(i)\n",
    "print(len(term_dic_sorted))\n",
    "plt.plot(x,y, '.')\n",
    "plt.title('Frequency Distribution')\n",
    "plt.xlabel('Words')\n",
    "plt.ylabel('Frequency')"
   ]
  },
  {
   "cell_type": "code",
   "execution_count": 64,
   "metadata": {},
   "outputs": [
    {
     "name": "stdout",
     "output_type": "stream",
     "text": [
      "student 5394\n",
      "data 1805\n",
      "study 1387\n",
      "course 1199\n",
      "teacher 1173\n",
      "education 1140\n",
      "based 1080\n",
      "school 1013\n",
      "research 1013\n",
      "model 960\n",
      "result 803\n",
      "approach 794\n",
      "design 730\n",
      "science 722\n",
      "method 718\n",
      "system 707\n",
      "analysis 706\n",
      "machine 672\n",
      "experience 654\n",
      "practice 645\n",
      "program 620\n",
      "knowledge 598\n",
      "classroom 583\n",
      "ai 581\n",
      "deep 562\n",
      "level 560\n",
      "group 533\n",
      "technology 532\n",
      "problem 531\n",
      "work 524\n"
     ]
    }
   ],
   "source": [
    "for item in sorted(term_dic.items(), key = operator.itemgetter(1), reverse = True)[0:30]:\n",
    "    print(dictionary[item[0]], item[1])"
   ]
  },
  {
   "cell_type": "code",
   "execution_count": 230,
   "metadata": {},
   "outputs": [
    {
     "data": {
      "image/png": "[encoded data removed]",
      "text/plain": [
       "<Figure size 432x288 with 1 Axes>"
      ]
     },
     "metadata": {
      "needs_background": "light"
     },
     "output_type": "display_data"
    }
   ],
   "source": [
    "coherence_score(1200, passes=10)"
   ]
  },
  {
   "cell_type": "code",
   "execution_count": 235,
   "metadata": {},
   "outputs": [],
   "source": [
    "#Corpus별 표제어(lemmatization) 추출\n",
    "tokenizer = RegexpTokenizer('\\w+')\n",
    "p_stemmer = PorterStemmer()\n",
    "texts = []\n",
    "for item in cps_data:\n",
    "    #corpus 속 숫자 제거\n",
    "    temp = re.sub('[0-9]+','',item)\n",
    "    tokens = tokenizer.tokenize(temp)\n",
    "    #1글자로 이루어진 단어 제거\n",
    "    tokens_overone = [word for word in tokens if (len(word) > 1)]\n",
    "    #stopword 제거\n",
    "    stopped_tokens = [i for i in tokens_overone if not i in stword]    \n",
    "    # ing형 제거\n",
    "    noning_tokens = [word for word in stopped_tokens if (re.findall('ing$', word) == [])]\n",
    "    # ly형 제거\n",
    "    nonly_tokens = [word for word in noning_tokens if (re.findall('ly$', word) == [])]\n",
    "    #각 단어 표제화\n",
    "    lemmatized_words = [wnl.lemmatize(i) for i in nonly_tokens]\n",
    "    texts.append(lemmatized_words)\n",
    "\n",
    "limit = 1200\n",
    "num_tps = 5\n",
    "frequency = {}\n",
    "for corpus in texts:\n",
    "    for word in corpus:\n",
    "        if word in frequency.keys():\n",
    "            frequency[word] +=1\n",
    "        else:\n",
    "            frequency[word] = 1\n",
    "texts_filtered = [ [token for token in text if (1 < frequency[token]<limit)] for text in texts ]\n",
    "\n",
    "#표제화된 단어들을 이용하여 document-term 테이블 생성\n",
    "dictionary = Dictionary(texts_filtered)\n",
    "docfreq = dictionary.dfs\n",
    "doc_term_matrix = [dictionary.doc2bow(i) for i in texts]\n",
    "\n",
    "ldaModel = models.ldamodel.LdaModel(corpus=doc_term_matrix, num_topics = num_tps, id2word = dictionary, \n",
    "                                    passes=10, alpha = 'symmetric', iterations = 10)\n",
    "ldaTopics = ldaModel.print_topics(num_topics = num_tps, num_words = 15)\n",
    "keywords_usa = []\n",
    "for i in range(len(ldaTopics)):\n",
    "    string = ''\n",
    "    for item in ldaTopics[i][1].split('+'):\n",
    "        string += (item.split('*')[1].replace(r'\"','') + '')\n",
    "    keywords_usa.append(['Topic ' + str(ldaTopics[i][0])] + [string.replace(' ',', ')])\n",
    "topic_ratio_usa = []\n",
    "for i in range(len(doc_term_matrix)):\n",
    "    topic_ratio_usa.append(ldaModel[doc_term_matrix[i]])"
   ]
  },
  {
   "cell_type": "code",
   "execution_count": 234,
   "metadata": {},
   "outputs": [],
   "source": [
    "stword.extend(['bp'])"
   ]
  },
  {
   "cell_type": "code",
   "execution_count": 236,
   "metadata": {},
   "outputs": [
    {
     "data": {
      "text/plain": [
       "[['Topic 0',\n",
       "  'ai, model, based, program, system, education, design, machine, project, approach, university, method, result, college, research'],\n",
       " ['Topic 1',\n",
       "  'course, science, class, approach, result, based, instructor, tool, research, content, design, classroom, deeper, feedback, teacher'],\n",
       " ['Topic 2',\n",
       "  'based, analysis, machine, system, result, concept, problem, model, method, level, research, game, approach, school, application'],\n",
       " ['Topic 3',\n",
       "  'teacher, school, education, practice, research, experience, based, development, community, classroom, program, social, need, deep, knowledge'],\n",
       " ['Topic 4',\n",
       "  'model, teacher, machine, research, education, network, time, science, method, social, classroom, design, process, based, question']]"
      ]
     },
     "execution_count": 236,
     "metadata": {},
     "output_type": "execute_result"
    }
   ],
   "source": [
    "keywords_usa"
   ]
  },
  {
   "cell_type": "code",
   "execution_count": 237,
   "metadata": {
    "collapsed": true
   },
   "outputs": [
    {
     "name": "stdout",
     "output_type": "stream",
     "text": [
      "Topic0\n",
      "ai\n",
      "model\n",
      "based\n",
      "program\n",
      "system\n",
      "education\n",
      "design\n",
      "machine\n",
      "project\n",
      "approach\n",
      "university\n",
      "method\n",
      "result\n",
      "college\n",
      "research\n",
      "Topic1\n",
      "course\n",
      "science\n",
      "class\n",
      "approach\n",
      "result\n",
      "based\n",
      "instructor\n",
      "tool\n",
      "research\n",
      "content\n",
      "design\n",
      "classroom\n",
      "deeper\n",
      "feedback\n",
      "teacher\n",
      "Topic2\n",
      "based\n",
      "analysis\n",
      "machine\n",
      "system\n",
      "result\n",
      "concept\n",
      "problem\n",
      "model\n",
      "method\n",
      "level\n",
      "research\n",
      "game\n",
      "approach\n",
      "school\n",
      "application\n",
      "Topic3\n",
      "teacher\n",
      "school\n",
      "education\n",
      "practice\n",
      "research\n",
      "experience\n",
      "based\n",
      "development\n",
      "community\n",
      "classroom\n",
      "program\n",
      "social\n",
      "need\n",
      "deep\n",
      "knowledge\n",
      "Topic4\n",
      "model\n",
      "teacher\n",
      "machine\n",
      "research\n",
      "education\n",
      "network\n",
      "time\n",
      "science\n",
      "method\n",
      "social\n",
      "classroom\n",
      "design\n",
      "process\n",
      "based\n",
      "question\n"
     ]
    }
   ],
   "source": [
    "for topic in keywords_usa:\n",
    "    for line in topic:\n",
    "        for item in line.split(','):\n",
    "            print(item.replace(' ',''))"
   ]
  },
  {
   "cell_type": "markdown",
   "metadata": {},
   "source": [
    "## China Topic Modeling"
   ]
  },
  {
   "cell_type": "code",
   "execution_count": 238,
   "metadata": {},
   "outputs": [],
   "source": [
    "i = 0\n",
    "cps_name, cps_data = [], []\n",
    "for item in df_filtered[df_filtered['Country'] == 'China']['Abstract']:\n",
    "    globals()['cps{}'.format(i)] = item.lower()\n",
    "    cps_name.append('cps{}'.format(i))\n",
    "    cps_data.append(globals()['cps{}'.format(i)])\n",
    "    i += 1"
   ]
  },
  {
   "cell_type": "code",
   "execution_count": 239,
   "metadata": {},
   "outputs": [],
   "source": [
    "#Corpus별 표제어(lemmatization) 추출\n",
    "tokenizer = RegexpTokenizer('\\w+')\n",
    "p_stemmer = PorterStemmer()\n",
    "texts = []\n",
    "for item in cps_data:\n",
    "    #corpus 속 숫자 제거\n",
    "    temp = re.sub('[0-9]+','',item)\n",
    "    tokens = tokenizer.tokenize(temp)\n",
    "    #1글자로 이루어진 단어 제거\n",
    "    tokens_overone = [word for word in tokens if (len(word) > 1)]\n",
    "    #stopword 제거\n",
    "    stopped_tokens = [i for i in tokens_overone if not i in stword]    \n",
    "    # ing형 제거\n",
    "    noning_tokens = [word for word in stopped_tokens if (re.findall('ing$', word) == [])]\n",
    "    # ly형 제거\n",
    "    nonly_tokens = [word for word in noning_tokens if (re.findall('ly$', word) == [])]\n",
    "    #각 단어 표제화\n",
    "    lemmatized_words = [wnl.lemmatize(i) for i in nonly_tokens]\n",
    "    texts.append(lemmatized_words)\n",
    "\n",
    "frequency = {}\n",
    "for corpus in texts:\n",
    "    for word in corpus:\n",
    "        if word in frequency.keys():\n",
    "            frequency[word] +=1\n",
    "        else:\n",
    "            frequency[word] = 1\n",
    "texts_filtered = [ [token for token in text if (1 < frequency[token]) ] for text in texts ]\n",
    "\n",
    "#표제화된 단어들을 이용하여 document-term 테이블 생성\n",
    "dictionary = Dictionary(texts_filtered)\n",
    "docfreq = dictionary.dfs\n",
    "doc_term_matrix = [dictionary.doc2bow(i) for i in texts]"
   ]
  },
  {
   "cell_type": "code",
   "execution_count": 240,
   "metadata": {},
   "outputs": [],
   "source": [
    "stword.extend(['among', 'based'])"
   ]
  },
  {
   "cell_type": "code",
   "execution_count": 242,
   "metadata": {
    "scrolled": true
   },
   "outputs": [
    {
     "name": "stdout",
     "output_type": "stream",
     "text": [
      "4547\n"
     ]
    },
    {
     "data": {
      "text/plain": [
       "Text(0, 0.5, 'Frequency')"
      ]
     },
     "execution_count": 242,
     "metadata": {},
     "output_type": "execute_result"
    },
    {
     "data": {
      "image/png": "[encoded data removed]",
      "text/plain": [
       "<Figure size 432x288 with 1 Axes>"
      ]
     },
     "metadata": {
      "needs_background": "light"
     },
     "output_type": "display_data"
    }
   ],
   "source": [
    "#Cheking the freqeuency distribution with all words.\n",
    "term_dic = {}\n",
    "for texts in doc_term_matrix:\n",
    "    for item in texts:\n",
    "        if item[0] in term_dic.keys():\n",
    "            term_dic[item[0]] += item[1]\n",
    "        else:\n",
    "            term_dic[item[0]] = 1\n",
    "term_dic_sorted = sorted(term_dic.items(), key = operator.itemgetter(1))\n",
    "x , y = [] ,[]\n",
    "for i in range(len(term_dic_sorted)):\n",
    "    y.append(term_dic_sorted[i][1])\n",
    "    x.append(i)\n",
    "print(len(term_dic_sorted))\n",
    "plt.plot(x,y, '.')\n",
    "plt.title('Frequency Distribution')\n",
    "plt.xlabel('Words')\n",
    "plt.ylabel('Frequency')"
   ]
  },
  {
   "cell_type": "code",
   "execution_count": 243,
   "metadata": {},
   "outputs": [
    {
     "name": "stdout",
     "output_type": "stream",
     "text": [
      "student 3024\n",
      "data 2715\n",
      "education 2049\n",
      "model 1318\n",
      "college 1270\n",
      "method 1150\n",
      "based 1144\n",
      "system 1047\n",
      "university 980\n",
      "technology 952\n",
      "network 928\n",
      "information 917\n",
      "teacher 856\n",
      "development 850\n",
      "result 795\n",
      "study 779\n",
      "analysis 751\n",
      "course 702\n",
      "english 692\n",
      "research 681\n",
      "evaluation 654\n",
      "algorithm 593\n",
      "quality 583\n",
      "classroom 526\n",
      "deep 517\n",
      "application 517\n",
      "problem 515\n",
      "process 497\n",
      "improve 495\n",
      "performance 477\n"
     ]
    }
   ],
   "source": [
    "for item in sorted(term_dic.items(), key = operator.itemgetter(1), reverse = True)[0:30]:\n",
    "    print(dictionary[item[0]], item[1])"
   ]
  },
  {
   "cell_type": "code",
   "execution_count": 249,
   "metadata": {},
   "outputs": [
    {
     "data": {
      "image/png": "[encoded data removed]",
      "text/plain": [
       "<Figure size 432x288 with 1 Axes>"
      ]
     },
     "metadata": {
      "needs_background": "light"
     },
     "output_type": "display_data"
    }
   ],
   "source": [
    "coherence_score(1200, passes = 10)"
   ]
  },
  {
   "cell_type": "code",
   "execution_count": 250,
   "metadata": {},
   "outputs": [],
   "source": [
    "#Corpus별 표제어(lemmatization) 추출\n",
    "tokenizer = RegexpTokenizer('\\w+')\n",
    "p_stemmer = PorterStemmer()\n",
    "texts = []\n",
    "for item in cps_data:\n",
    "    #corpus 속 숫자 제거\n",
    "    temp = re.sub('[0-9]+','',item)\n",
    "    tokens = tokenizer.tokenize(temp)\n",
    "    #1글자로 이루어진 단어 제거\n",
    "    tokens_overone = [word for word in tokens if (len(word) > 1)]\n",
    "    #stopword 제거\n",
    "    stopped_tokens = [i for i in tokens_overone if not i in stword]    \n",
    "    # ing형 제거\n",
    "    noning_tokens = [word for word in stopped_tokens if (re.findall('ing$', word) == [])]\n",
    "    # ly형 제거\n",
    "    nonly_tokens = [word for word in noning_tokens if (re.findall('ly$', word) == [])]\n",
    "    #각 단어 표제화\n",
    "    lemmatized_words = [wnl.lemmatize(i) for i in nonly_tokens]\n",
    "    texts.append(lemmatized_words)\n",
    "\n",
    "limit = 1200\n",
    "num_tps = 5\n",
    "frequency = {}\n",
    "for corpus in texts:\n",
    "    for word in corpus:\n",
    "        if word in frequency.keys():\n",
    "            frequency[word] +=1\n",
    "        else:\n",
    "            frequency[word] = 1\n",
    "texts_filtered = [ [token for token in text if (1 < frequency[token]<limit)] for text in texts ]\n",
    "\n",
    "#표제화된 단어들을 이용하여 document-term 테이블 생성\n",
    "dictionary = Dictionary(texts_filtered)\n",
    "docfreq = dictionary.dfs\n",
    "doc_term_matrix = [dictionary.doc2bow(i) for i in texts]\n",
    "\n",
    "ldaModel = models.ldamodel.LdaModel(corpus=doc_term_matrix, num_topics = num_tps, id2word = dictionary, \n",
    "                                    passes=10, alpha = 'symmetric', iterations = 10)\n",
    "ldaTopics = ldaModel.print_topics(num_topics = num_tps, num_words = 15)\n",
    "keywords_china = []\n",
    "for i in range(len(ldaTopics)):\n",
    "    string = ''\n",
    "    for item in ldaTopics[i][1].split('+'):\n",
    "        string += (item.split('*')[1].replace(r'\"','') + '')\n",
    "    keywords_china.append(['Topic ' + str(ldaTopics[i][0])] + [string.replace(' ',', ')])\n",
    "topic_ratio_china = []\n",
    "for i in range(len(doc_term_matrix)):\n",
    "    topic_ratio_china.append(ldaModel[doc_term_matrix[i]])"
   ]
  },
  {
   "cell_type": "code",
   "execution_count": 136,
   "metadata": {},
   "outputs": [
    {
     "data": {
      "text/plain": [
       "[['Topic 0',\n",
       "  'online, course, system, study, ai, group, mooc, educational, result, resource, analysis, method, open, application, quality'],\n",
       " ['Topic 1',\n",
       "  'model, evaluation, network, algorithm, method, neural, result, quality, system, proposed, analysis, show, performance, college, prediction'],\n",
       " ['Topic 2',\n",
       "  'english, college, ideological, political, study, teacher, language, ability, deep, analysis, method, school, knowledge, research, factor'],\n",
       " ['Topic 3',\n",
       "  'technology, information, system, college, service, course, library, method, development, design, university, problem, knowledge, resource, application'],\n",
       " ['Topic 4',\n",
       "  'model, network, method, teacher, feature, result, proposed, performance, behavior, recognition, neural, accuracy, deep, prediction, study'],\n",
       " ['Topic 5',\n",
       "  'algorithm, method, artificial, design, music, model, intelligence, system, performance, process, optimization, experiment, art, experimental, robot'],\n",
       " ['Topic 6',\n",
       "  'technology, classroom, information, development, platform, internet, application, research, management, teacher, cloud, analysis, reform, model, system'],\n",
       " ['Topic 7',\n",
       "  'university, college, development, china, innovation, study, school, entrepreneurship, management, system, talent, teacher, chinese, era, enterprise']]"
      ]
     },
     "execution_count": 136,
     "metadata": {},
     "output_type": "execute_result"
    }
   ],
   "source": [
    "keywords_china"
   ]
  },
  {
   "cell_type": "code",
   "execution_count": 251,
   "metadata": {},
   "outputs": [
    {
     "name": "stdout",
     "output_type": "stream",
     "text": [
      "Topic0\n",
      "english\n",
      "evaluation\n",
      "network\n",
      "method\n",
      "teacher\n",
      "quality\n",
      "neural\n",
      "result\n",
      "deep\n",
      "language\n",
      "knowledge\n",
      "ability\n",
      "school\n",
      "system\n",
      "study\n",
      "Topic1\n",
      "university\n",
      "technology\n",
      "development\n",
      "information\n",
      "system\n",
      "management\n",
      "analysis\n",
      "course\n",
      "era\n",
      "method\n",
      "research\n",
      "resource\n",
      "improve\n",
      "application\n",
      "quality\n",
      "Topic2\n",
      "algorithm\n",
      "study\n",
      "network\n",
      "ideological\n",
      "method\n",
      "result\n",
      "political\n",
      "factor\n",
      "proposed\n",
      "performance\n",
      "assessment\n",
      "approach\n",
      "course\n",
      "university\n",
      "neural\n",
      "Topic3\n",
      "method\n",
      "teacher\n",
      "study\n",
      "result\n",
      "feature\n",
      "online\n",
      "research\n",
      "performance\n",
      "network\n",
      "experiment\n",
      "analysis\n",
      "machine\n",
      "recognition\n",
      "proposed\n",
      "behavior\n",
      "Topic4\n",
      "classroom\n",
      "system\n",
      "technology\n",
      "application\n",
      "time\n",
      "information\n",
      "teacher\n",
      "school\n",
      "result\n",
      "algorithm\n",
      "method\n",
      "analysis\n",
      "study\n",
      "english\n",
      "class\n"
     ]
    }
   ],
   "source": [
    "for topic in keywords_china:\n",
    "    for line in topic:\n",
    "        for item in line.split(','):\n",
    "            print(item.replace(' ',''))"
   ]
  },
  {
   "cell_type": "code",
   "execution_count": 252,
   "metadata": {},
   "outputs": [],
   "source": [
    "keywords_china_byword = []\n",
    "for topic in keywords_china:\n",
    "    for words in topic:\n",
    "        for word in words.split(','):\n",
    "            keywords_china_byword.append(word.replace(' ',''))"
   ]
  },
  {
   "cell_type": "code",
   "execution_count": 253,
   "metadata": {},
   "outputs": [],
   "source": [
    "keywords_usa_byword = []\n",
    "for topic in keywords_usa:\n",
    "    for words in topic:\n",
    "        for word in words.split(','):\n",
    "            keywords_usa_byword.append(word.replace(' ',''))"
   ]
  },
  {
   "cell_type": "code",
   "execution_count": 254,
   "metadata": {},
   "outputs": [],
   "source": [
    "keywords_byword = []\n",
    "for topic in keywords:\n",
    "    for words in topic:\n",
    "        for word in words.split(','):\n",
    "            keywords_byword.append(word.replace(' ',''))"
   ]
  },
  {
   "cell_type": "code",
   "execution_count": 255,
   "metadata": {},
   "outputs": [
    {
     "name": "stdout",
     "output_type": "stream",
     "text": [
      "ai\n",
      "program\n",
      "education\n",
      "project\n",
      "class\n",
      "instructor\n",
      "content\n",
      "classroom\n",
      "feedback\n",
      "concept\n",
      "game\n",
      "education\n",
      "community\n",
      "classroom\n",
      "program\n",
      "need\n",
      "education\n",
      "time\n",
      "classroom\n",
      "question\n"
     ]
    }
   ],
   "source": [
    "for word in keywords_usa_byword:\n",
    "    if word not in keywords_byword:\n",
    "        print(word)"
   ]
  },
  {
   "cell_type": "code",
   "execution_count": 256,
   "metadata": {},
   "outputs": [
    {
     "name": "stdout",
     "output_type": "stream",
     "text": [
      "evaluation\n",
      "quality\n",
      "ability\n",
      "study\n",
      "era\n",
      "resource\n",
      "improve\n",
      "quality\n",
      "study\n",
      "ideological\n",
      "political\n",
      "factor\n",
      "study\n",
      "experiment\n",
      "recognition\n",
      "behavior\n",
      "classroom\n",
      "time\n",
      "study\n",
      "class\n"
     ]
    }
   ],
   "source": [
    "for word in keywords_china_byword:\n",
    "    if word not in keywords_byword:\n",
    "        print(word)"
   ]
  },
  {
   "cell_type": "markdown",
   "metadata": {},
   "source": [
    "## Backward Citation Setup"
   ]
  },
  {
   "cell_type": "code",
   "execution_count": 138,
   "metadata": {},
   "outputs": [],
   "source": [
    "df_back = pd.read_excel(r'C:\\Users\\Yunseok Choi\\Google 드라이브\\기술경영대학원\\STEPI\\AI_Education_backwardcitation.xlsx')\n",
    "df_back.dropna(subset = ['Abstract','Publication Year'], inplace = True, axis = 0)"
   ]
  },
  {
   "cell_type": "code",
   "execution_count": 139,
   "metadata": {},
   "outputs": [],
   "source": [
    "df_back.reset_index(inplace = True)"
   ]
  },
  {
   "cell_type": "code",
   "execution_count": 145,
   "metadata": {},
   "outputs": [
    {
     "data": {
      "text/plain": [
       "(137728, 71)"
      ]
     },
     "execution_count": 145,
     "metadata": {},
     "output_type": "execute_result"
    }
   ],
   "source": [
    "df_back.shape"
   ]
  },
  {
   "cell_type": "code",
   "execution_count": 160,
   "metadata": {},
   "outputs": [],
   "source": [
    "wos_usa = []\n",
    "for item in usa_index:\n",
    "    wos_usa.append(df_filtered.iloc[item]['UT (Unique WOS ID)'])"
   ]
  },
  {
   "cell_type": "code",
   "execution_count": 141,
   "metadata": {},
   "outputs": [],
   "source": [
    "wos_china = []\n",
    "for item in china_index:\n",
    "    wos_china.append(df_filtered.iloc[item]['UT (Unique WOS ID)'])"
   ]
  },
  {
   "cell_type": "code",
   "execution_count": 161,
   "metadata": {},
   "outputs": [],
   "source": [
    "cps_data_china, cps_data_usa = [], []\n",
    "back_index_china , back_index_usa = [], []\n",
    "for i in range(df_back.shape[0]):\n",
    "    if df_back['CIted By'][i] in wos_china:\n",
    "        cps_data_china.append(df_back['Abstract'][i].lower())\n",
    "        back_index_china.append(i)\n",
    "    elif df_back['CIted By'][i] in wos_usa:\n",
    "        cps_data_usa.append(df_back['Abstract'][i].lower())\n",
    "        back_index_usa.append(i)"
   ]
  },
  {
   "cell_type": "code",
   "execution_count": 164,
   "metadata": {},
   "outputs": [
    {
     "data": {
      "text/plain": [
       "19258"
      ]
     },
     "execution_count": 164,
     "metadata": {},
     "output_type": "execute_result"
    }
   ],
   "source": [
    "len(cps_data_usa)"
   ]
  },
  {
   "cell_type": "code",
   "execution_count": 165,
   "metadata": {
    "scrolled": true
   },
   "outputs": [
    {
     "data": {
      "text/plain": [
       "10240"
      ]
     },
     "execution_count": 165,
     "metadata": {},
     "output_type": "execute_result"
    }
   ],
   "source": [
    "len(cps_data_china)"
   ]
  },
  {
   "cell_type": "markdown",
   "metadata": {},
   "source": [
    "## Backward Citation"
   ]
  },
  {
   "cell_type": "code",
   "execution_count": 146,
   "metadata": {},
   "outputs": [],
   "source": [
    "cps_data_back = []\n",
    "for item in df_back['Abstract']:\n",
    "    cps_data_back.append(item.lower())"
   ]
  },
  {
   "cell_type": "code",
   "execution_count": 168,
   "metadata": {},
   "outputs": [],
   "source": [
    "#Corpus별 표제어(lemmatization) 추출\n",
    "tokenizer = RegexpTokenizer('\\w+')\n",
    "p_stemmer = PorterStemmer()\n",
    "texts = []\n",
    "for item in cps_data_back:\n",
    "    #corpus 속 숫자 제거\n",
    "    temp = re.sub('[0-9]+','',item)\n",
    "    tokens = tokenizer.tokenize(temp)\n",
    "    #1글자로 이루어진 단어 제거\n",
    "    tokens_overone = [word for word in tokens if len(word) > 1]\n",
    "    #stopword 제거\n",
    "    stopped_tokens = [i for i in tokens_overone if not i in stword]    \n",
    "    # ing형 제거\n",
    "    noning_tokens = [word for word in stopped_tokens if (re.findall('ing$', word) == [])]\n",
    "    # ly형 제거\n",
    "    nonly_tokens = [word for word in noning_tokens if (re.findall('ly$', word) == [])]\n",
    "    #각 단어 표제화\n",
    "    lemmatized_words = [wnl.lemmatize(i) for i in nonly_tokens]\n",
    "    texts.append(lemmatized_words)\n",
    "\n",
    "frequency = {}\n",
    "for corpus in texts:\n",
    "    for word in corpus:\n",
    "        if word in frequency.keys():\n",
    "            frequency[word] +=1\n",
    "        else:\n",
    "            frequency[word] = 1\n",
    "texts_filtered = [ [token for token in text if (1 < frequency[token]) ] for text in texts ]\n",
    "\n",
    "#표제화된 단어들을 이용하여 document-term 테이블 생성\n",
    "dictionary = Dictionary(texts_filtered)\n",
    "docfreq = dictionary.dfs\n",
    "doc_term_matrix = [dictionary.doc2bow(i) for i in texts]"
   ]
  },
  {
   "cell_type": "code",
   "execution_count": 169,
   "metadata": {},
   "outputs": [
    {
     "name": "stdout",
     "output_type": "stream",
     "text": [
      "60308\n"
     ]
    },
    {
     "data": {
      "text/plain": [
       "Text(0, 0.5, 'Frequency')"
      ]
     },
     "execution_count": 169,
     "metadata": {},
     "output_type": "execute_result"
    },
    {
     "data": {
      "image/png": "[encoded data removed]",
      "text/plain": [
       "<Figure size 432x288 with 1 Axes>"
      ]
     },
     "metadata": {
      "needs_background": "light"
     },
     "output_type": "display_data"
    }
   ],
   "source": [
    "#Cheking the freqeuency distribution with all words.\n",
    "term_dic = {}\n",
    "for texts in doc_term_matrix:\n",
    "    for item in texts:\n",
    "        if item[0] in term_dic.keys():\n",
    "            term_dic[item[0]] += item[1]\n",
    "        else:\n",
    "            term_dic[item[0]] = 1\n",
    "term_dic_sorted = sorted(term_dic.items(), key = operator.itemgetter(1))\n",
    "x , y = [] ,[]\n",
    "for i in range(len(term_dic_sorted)):\n",
    "    y.append(term_dic_sorted[i][1])\n",
    "    x.append(i)\n",
    "print(len(term_dic_sorted))\n",
    "plt.plot(x,y, '.')\n",
    "plt.title('Frequency Distribution')\n",
    "plt.xlabel('Words')\n",
    "plt.ylabel('Frequency')"
   ]
  },
  {
   "cell_type": "code",
   "execution_count": 170,
   "metadata": {},
   "outputs": [
    {
     "name": "stdout",
     "output_type": "stream",
     "text": [
      "student 230796\n",
      "study 128274\n",
      "data 94158\n",
      "model 81309\n",
      "result 79577\n",
      "research 73663\n",
      "approach 70105\n",
      "method 66852\n",
      "education 64448\n",
      "system 58940\n",
      "teacher 57872\n",
      "analysis 56528\n",
      "performance 49597\n",
      "school 49333\n",
      "group 43668\n",
      "knowledge 43411\n",
      "process 42616\n",
      "problem 41084\n",
      "course 40354\n",
      "level 39610\n",
      "different 37022\n",
      "self 36085\n",
      "development 36067\n",
      "time 36041\n",
      "effect 34959\n",
      "factor 33916\n",
      "information 33432\n",
      "network 33395\n",
      "practice 33002\n",
      "design 32776\n"
     ]
    }
   ],
   "source": [
    "for item in sorted(term_dic.items(), key = operator.itemgetter(1), reverse = True)[0:30]:\n",
    "    print(dictionary[item[0]], item[1])"
   ]
  },
  {
   "cell_type": "code",
   "execution_count": 152,
   "metadata": {
    "collapsed": true
   },
   "outputs": [
    {
     "ename": "KeyboardInterrupt",
     "evalue": "",
     "output_type": "error",
     "traceback": [
      "\u001b[1;31m---------------------------------------------------------------------------\u001b[0m",
      "\u001b[1;31mKeyboardInterrupt\u001b[0m                         Traceback (most recent call last)",
      "\u001b[1;32mC:\\Users\\YUNSEO~1\\AppData\\Local\\Temp/ipykernel_10272/2614176450.py\u001b[0m in \u001b[0;36m<module>\u001b[1;34m\u001b[0m\n\u001b[1;32m----> 1\u001b[1;33m \u001b[0mcoherence_score\u001b[0m\u001b[1;33m(\u001b[0m\u001b[1;36m70000\u001b[0m\u001b[1;33m,\u001b[0m \u001b[0mpasses\u001b[0m \u001b[1;33m=\u001b[0m \u001b[1;36m15\u001b[0m\u001b[1;33m,\u001b[0m \u001b[0mcps_data\u001b[0m \u001b[1;33m=\u001b[0m \u001b[0mcps_data_back\u001b[0m\u001b[1;33m)\u001b[0m\u001b[1;33m\u001b[0m\u001b[1;33m\u001b[0m\u001b[0m\n\u001b[0m",
      "\u001b[1;32mC:\\Users\\YUNSEO~1\\AppData\\Local\\Temp/ipykernel_10272/3433994544.py\u001b[0m in \u001b[0;36mcoherence_score\u001b[1;34m(limit, passes, cps_data)\u001b[0m\n\u001b[0;32m     38\u001b[0m     \u001b[0mmodel_list\u001b[0m \u001b[1;33m=\u001b[0m \u001b[1;33m[\u001b[0m\u001b[1;33m]\u001b[0m\u001b[1;33m\u001b[0m\u001b[1;33m\u001b[0m\u001b[0m\n\u001b[0;32m     39\u001b[0m     \u001b[1;32mfor\u001b[0m \u001b[0mn_topics\u001b[0m \u001b[1;32min\u001b[0m \u001b[0mrange\u001b[0m\u001b[1;33m(\u001b[0m\u001b[1;36m2\u001b[0m\u001b[1;33m,\u001b[0m\u001b[1;36m30\u001b[0m\u001b[1;33m,\u001b[0m\u001b[1;36m1\u001b[0m\u001b[1;33m)\u001b[0m\u001b[1;33m:\u001b[0m\u001b[1;33m\u001b[0m\u001b[1;33m\u001b[0m\u001b[0m\n\u001b[1;32m---> 40\u001b[1;33m         model = models.ldamodel.LdaModel(corpus=doc_term_matrix, num_topics = n_topics, id2word = dictionary, \n\u001b[0m\u001b[0;32m     41\u001b[0m                                          passes=passes, alpha = 'symmetric', iterations = 10)\n\u001b[0;32m     42\u001b[0m         \u001b[0mmodel_list\u001b[0m\u001b[1;33m.\u001b[0m\u001b[0mappend\u001b[0m\u001b[1;33m(\u001b[0m\u001b[0mmodel\u001b[0m\u001b[1;33m)\u001b[0m\u001b[1;33m\u001b[0m\u001b[1;33m\u001b[0m\u001b[0m\n",
      "\u001b[1;32m~\\Anaconda3\\lib\\site-packages\\gensim\\models\\ldamodel.py\u001b[0m in \u001b[0;36m__init__\u001b[1;34m(self, corpus, num_topics, id2word, distributed, chunksize, passes, update_every, alpha, eta, decay, offset, eval_every, iterations, gamma_threshold, minimum_probability, random_state, ns_conf, minimum_phi_value, per_word_topics, callbacks, dtype)\u001b[0m\n\u001b[0;32m    518\u001b[0m             \u001b[0muse_numpy\u001b[0m \u001b[1;33m=\u001b[0m \u001b[0mself\u001b[0m\u001b[1;33m.\u001b[0m\u001b[0mdispatcher\u001b[0m \u001b[1;32mis\u001b[0m \u001b[1;32mnot\u001b[0m \u001b[1;32mNone\u001b[0m\u001b[1;33m\u001b[0m\u001b[1;33m\u001b[0m\u001b[0m\n\u001b[0;32m    519\u001b[0m             \u001b[0mstart\u001b[0m \u001b[1;33m=\u001b[0m \u001b[0mtime\u001b[0m\u001b[1;33m.\u001b[0m\u001b[0mtime\u001b[0m\u001b[1;33m(\u001b[0m\u001b[1;33m)\u001b[0m\u001b[1;33m\u001b[0m\u001b[1;33m\u001b[0m\u001b[0m\n\u001b[1;32m--> 520\u001b[1;33m             \u001b[0mself\u001b[0m\u001b[1;33m.\u001b[0m\u001b[0mupdate\u001b[0m\u001b[1;33m(\u001b[0m\u001b[0mcorpus\u001b[0m\u001b[1;33m,\u001b[0m \u001b[0mchunks_as_numpy\u001b[0m\u001b[1;33m=\u001b[0m\u001b[0muse_numpy\u001b[0m\u001b[1;33m)\u001b[0m\u001b[1;33m\u001b[0m\u001b[1;33m\u001b[0m\u001b[0m\n\u001b[0m\u001b[0;32m    521\u001b[0m             self.add_lifecycle_event(\n\u001b[0;32m    522\u001b[0m                 \u001b[1;34m\"created\"\u001b[0m\u001b[1;33m,\u001b[0m\u001b[1;33m\u001b[0m\u001b[1;33m\u001b[0m\u001b[0m\n",
      "\u001b[1;32m~\\Anaconda3\\lib\\site-packages\\gensim\\models\\ldamodel.py\u001b[0m in \u001b[0;36mupdate\u001b[1;34m(self, corpus, chunksize, decay, offset, passes, update_every, eval_every, iterations, gamma_threshold, chunks_as_numpy)\u001b[0m\n\u001b[0;32m    988\u001b[0m \u001b[1;33m\u001b[0m\u001b[0m\n\u001b[0;32m    989\u001b[0m                 \u001b[1;32mif\u001b[0m \u001b[0meval_every\u001b[0m \u001b[1;32mand\u001b[0m \u001b[1;33m(\u001b[0m\u001b[1;33m(\u001b[0m\u001b[0mreallen\u001b[0m \u001b[1;33m==\u001b[0m \u001b[0mlencorpus\u001b[0m\u001b[1;33m)\u001b[0m \u001b[1;32mor\u001b[0m \u001b[1;33m(\u001b[0m\u001b[1;33m(\u001b[0m\u001b[0mchunk_no\u001b[0m \u001b[1;33m+\u001b[0m \u001b[1;36m1\u001b[0m\u001b[1;33m)\u001b[0m \u001b[1;33m%\u001b[0m \u001b[1;33m(\u001b[0m\u001b[0meval_every\u001b[0m \u001b[1;33m*\u001b[0m \u001b[0mself\u001b[0m\u001b[1;33m.\u001b[0m\u001b[0mnumworkers\u001b[0m\u001b[1;33m)\u001b[0m \u001b[1;33m==\u001b[0m \u001b[1;36m0\u001b[0m\u001b[1;33m)\u001b[0m\u001b[1;33m)\u001b[0m\u001b[1;33m:\u001b[0m\u001b[1;33m\u001b[0m\u001b[1;33m\u001b[0m\u001b[0m\n\u001b[1;32m--> 990\u001b[1;33m                     \u001b[0mself\u001b[0m\u001b[1;33m.\u001b[0m\u001b[0mlog_perplexity\u001b[0m\u001b[1;33m(\u001b[0m\u001b[0mchunk\u001b[0m\u001b[1;33m,\u001b[0m \u001b[0mtotal_docs\u001b[0m\u001b[1;33m=\u001b[0m\u001b[0mlencorpus\u001b[0m\u001b[1;33m)\u001b[0m\u001b[1;33m\u001b[0m\u001b[1;33m\u001b[0m\u001b[0m\n\u001b[0m\u001b[0;32m    991\u001b[0m \u001b[1;33m\u001b[0m\u001b[0m\n\u001b[0;32m    992\u001b[0m                 \u001b[1;32mif\u001b[0m \u001b[0mself\u001b[0m\u001b[1;33m.\u001b[0m\u001b[0mdispatcher\u001b[0m\u001b[1;33m:\u001b[0m\u001b[1;33m\u001b[0m\u001b[1;33m\u001b[0m\u001b[0m\n",
      "\u001b[1;32m~\\Anaconda3\\lib\\site-packages\\gensim\\models\\ldamodel.py\u001b[0m in \u001b[0;36mlog_perplexity\u001b[1;34m(self, chunk, total_docs)\u001b[0m\n\u001b[0;32m    844\u001b[0m         \u001b[0mcorpus_words\u001b[0m \u001b[1;33m=\u001b[0m \u001b[0msum\u001b[0m\u001b[1;33m(\u001b[0m\u001b[0mcnt\u001b[0m \u001b[1;32mfor\u001b[0m \u001b[0mdocument\u001b[0m \u001b[1;32min\u001b[0m \u001b[0mchunk\u001b[0m \u001b[1;32mfor\u001b[0m \u001b[0m_\u001b[0m\u001b[1;33m,\u001b[0m \u001b[0mcnt\u001b[0m \u001b[1;32min\u001b[0m \u001b[0mdocument\u001b[0m\u001b[1;33m)\u001b[0m\u001b[1;33m\u001b[0m\u001b[1;33m\u001b[0m\u001b[0m\n\u001b[0;32m    845\u001b[0m         \u001b[0msubsample_ratio\u001b[0m \u001b[1;33m=\u001b[0m \u001b[1;36m1.0\u001b[0m \u001b[1;33m*\u001b[0m \u001b[0mtotal_docs\u001b[0m \u001b[1;33m/\u001b[0m \u001b[0mlen\u001b[0m\u001b[1;33m(\u001b[0m\u001b[0mchunk\u001b[0m\u001b[1;33m)\u001b[0m\u001b[1;33m\u001b[0m\u001b[1;33m\u001b[0m\u001b[0m\n\u001b[1;32m--> 846\u001b[1;33m         \u001b[0mperwordbound\u001b[0m \u001b[1;33m=\u001b[0m \u001b[0mself\u001b[0m\u001b[1;33m.\u001b[0m\u001b[0mbound\u001b[0m\u001b[1;33m(\u001b[0m\u001b[0mchunk\u001b[0m\u001b[1;33m,\u001b[0m \u001b[0msubsample_ratio\u001b[0m\u001b[1;33m=\u001b[0m\u001b[0msubsample_ratio\u001b[0m\u001b[1;33m)\u001b[0m \u001b[1;33m/\u001b[0m \u001b[1;33m(\u001b[0m\u001b[0msubsample_ratio\u001b[0m \u001b[1;33m*\u001b[0m \u001b[0mcorpus_words\u001b[0m\u001b[1;33m)\u001b[0m\u001b[1;33m\u001b[0m\u001b[1;33m\u001b[0m\u001b[0m\n\u001b[0m\u001b[0;32m    847\u001b[0m         logger.info(\n\u001b[0;32m    848\u001b[0m             \u001b[1;34m\"%.3f per-word bound, %.1f perplexity estimate based on a held-out corpus of %i documents with %i words\"\u001b[0m\u001b[1;33m,\u001b[0m\u001b[1;33m\u001b[0m\u001b[1;33m\u001b[0m\u001b[0m\n",
      "\u001b[1;32m~\\Anaconda3\\lib\\site-packages\\gensim\\models\\ldamodel.py\u001b[0m in \u001b[0;36mbound\u001b[1;34m(self, corpus, gamma, subsample_ratio)\u001b[0m\n\u001b[0;32m   1110\u001b[0m                 \u001b[0mlogger\u001b[0m\u001b[1;33m.\u001b[0m\u001b[0mdebug\u001b[0m\u001b[1;33m(\u001b[0m\u001b[1;34m\"bound: at document #%i\"\u001b[0m\u001b[1;33m,\u001b[0m \u001b[0md\u001b[0m\u001b[1;33m)\u001b[0m\u001b[1;33m\u001b[0m\u001b[1;33m\u001b[0m\u001b[0m\n\u001b[0;32m   1111\u001b[0m             \u001b[1;32mif\u001b[0m \u001b[0mgamma\u001b[0m \u001b[1;32mis\u001b[0m \u001b[1;32mNone\u001b[0m\u001b[1;33m:\u001b[0m\u001b[1;33m\u001b[0m\u001b[1;33m\u001b[0m\u001b[0m\n\u001b[1;32m-> 1112\u001b[1;33m                 \u001b[0mgammad\u001b[0m\u001b[1;33m,\u001b[0m \u001b[0m_\u001b[0m \u001b[1;33m=\u001b[0m \u001b[0mself\u001b[0m\u001b[1;33m.\u001b[0m\u001b[0minference\u001b[0m\u001b[1;33m(\u001b[0m\u001b[1;33m[\u001b[0m\u001b[0mdoc\u001b[0m\u001b[1;33m]\u001b[0m\u001b[1;33m)\u001b[0m\u001b[1;33m\u001b[0m\u001b[1;33m\u001b[0m\u001b[0m\n\u001b[0m\u001b[0;32m   1113\u001b[0m             \u001b[1;32melse\u001b[0m\u001b[1;33m:\u001b[0m\u001b[1;33m\u001b[0m\u001b[1;33m\u001b[0m\u001b[0m\n\u001b[0;32m   1114\u001b[0m                 \u001b[0mgammad\u001b[0m \u001b[1;33m=\u001b[0m \u001b[0mgamma\u001b[0m\u001b[1;33m[\u001b[0m\u001b[0md\u001b[0m\u001b[1;33m]\u001b[0m\u001b[1;33m\u001b[0m\u001b[1;33m\u001b[0m\u001b[0m\n",
      "\u001b[1;32m~\\Anaconda3\\lib\\site-packages\\gensim\\models\\ldamodel.py\u001b[0m in \u001b[0;36minference\u001b[1;34m(self, chunk, collect_sstats)\u001b[0m\n\u001b[0;32m    703\u001b[0m             \u001b[0mElogthetad\u001b[0m \u001b[1;33m=\u001b[0m \u001b[0mElogtheta\u001b[0m\u001b[1;33m[\u001b[0m\u001b[0md\u001b[0m\u001b[1;33m,\u001b[0m \u001b[1;33m:\u001b[0m\u001b[1;33m]\u001b[0m\u001b[1;33m\u001b[0m\u001b[1;33m\u001b[0m\u001b[0m\n\u001b[0;32m    704\u001b[0m             \u001b[0mexpElogthetad\u001b[0m \u001b[1;33m=\u001b[0m \u001b[0mexpElogtheta\u001b[0m\u001b[1;33m[\u001b[0m\u001b[0md\u001b[0m\u001b[1;33m,\u001b[0m \u001b[1;33m:\u001b[0m\u001b[1;33m]\u001b[0m\u001b[1;33m\u001b[0m\u001b[1;33m\u001b[0m\u001b[0m\n\u001b[1;32m--> 705\u001b[1;33m             \u001b[0mexpElogbetad\u001b[0m \u001b[1;33m=\u001b[0m \u001b[0mself\u001b[0m\u001b[1;33m.\u001b[0m\u001b[0mexpElogbeta\u001b[0m\u001b[1;33m[\u001b[0m\u001b[1;33m:\u001b[0m\u001b[1;33m,\u001b[0m \u001b[0mids\u001b[0m\u001b[1;33m]\u001b[0m\u001b[1;33m\u001b[0m\u001b[1;33m\u001b[0m\u001b[0m\n\u001b[0m\u001b[0;32m    706\u001b[0m \u001b[1;33m\u001b[0m\u001b[0m\n\u001b[0;32m    707\u001b[0m             \u001b[1;31m# The optimal phi_{dwk} is proportional to expElogthetad_k * expElogbetad_kw.\u001b[0m\u001b[1;33m\u001b[0m\u001b[1;33m\u001b[0m\u001b[1;33m\u001b[0m\u001b[0m\n",
      "\u001b[1;31mKeyboardInterrupt\u001b[0m: "
     ]
    }
   ],
   "source": [
    "coherence_score(70000, passes = 15, cps_data = cps_data_back)"
   ]
  },
  {
   "cell_type": "code",
   "execution_count": 167,
   "metadata": {},
   "outputs": [],
   "source": [
    "#Corpus별 표제어(lemmatization) 추출\n",
    "tokenizer = RegexpTokenizer('\\w+')\n",
    "p_stemmer = PorterStemmer()\n",
    "texts = []\n",
    "for item in cps_data_back:\n",
    "    #corpus 속 숫자 제거\n",
    "    temp = re.sub('[0-9]+','',item)\n",
    "    tokens = tokenizer.tokenize(temp)\n",
    "    #1글자로 이루어진 단어 제거\n",
    "    tokens_overone = [word for word in tokens if len(word) > 1]\n",
    "    #stopword 제거\n",
    "    stopped_tokens = [i for i in tokens_overone if not i in stword]    \n",
    "    # ing형 제거\n",
    "    noning_tokens = [word for word in stopped_tokens if (re.findall('ing$', word) == [])]\n",
    "    # ly형 제거\n",
    "    nonly_tokens = [word for word in noning_tokens if (re.findall('ly$', word) == [])]\n",
    "    #각 단어 표제화\n",
    "    lemmatized_words = [wnl.lemmatize(i) for i in nonly_tokens]\n",
    "    #filtered_words = [word for word in lemmatized_words if not word in filter_words]\n",
    "    texts.append(lemmatized_words)\n",
    "\n",
    "\n",
    "limit = 70000\n",
    "num_tps = 8\n",
    "frequency = {}\n",
    "for corpus in texts:\n",
    "    for word in corpus:\n",
    "        if word in frequency.keys():\n",
    "            frequency[word] +=1\n",
    "        else:\n",
    "            frequency[word] = 1\n",
    "texts_filtered = [ [token for token in text if (1 < frequency[token]<limit)] for text in texts ]\n",
    "\n",
    "#표제화된 단어들을 이용하여 document-term 테이블 생성\n",
    "dictionary = Dictionary(texts_filtered)\n",
    "docfreq = dictionary.dfs\n",
    "doc_term_matrix = [dictionary.doc2bow(i) for i in texts]\n",
    "\n",
    "ldaModel = models.ldamodel.LdaModel(corpus=doc_term_matrix, num_topics = num_tps, id2word = dictionary, \n",
    "                                    passes=15, alpha = 'symmetric', iterations = 10)\n",
    "ldaTopics = ldaModel.print_topics(num_topics = num_tps, num_words = 15)\n",
    "keywords = []\n",
    "for i in range(len(ldaTopics)):\n",
    "    string = ''\n",
    "    for item in ldaTopics[i][1].split('+'):\n",
    "        string += (item.split('*')[1].replace(r'\"','') + '')\n",
    "    keywords.append(['Topic ' + str(ldaTopics[i][0])] + [string.replace(' ',', ')])\n",
    "topic_ratio = []\n",
    "for i in range(len(doc_term_matrix)):\n",
    "    topic_ratio.append(ldaModel[doc_term_matrix[i]])"
   ]
  },
  {
   "cell_type": "code",
   "execution_count": 171,
   "metadata": {},
   "outputs": [
    {
     "data": {
      "text/plain": [
       "[['Topic 0',\n",
       "  'course, group, skill, medical, education, program, method, class, experience, university, online, clinical, assessment, feedback, undergraduate'],\n",
       " ['Topic 1',\n",
       "  'self, school, academic, effect, performance, achievement, relationship, motivation, child, level, positive, factor, behavior, social, grade'],\n",
       " ['Topic 2',\n",
       "  'education, university, school, social, development, management, service, institution, policy, college, country, educational, business, public, impact'],\n",
       " ['Topic 3',\n",
       "  'health, patient, risk, child, age, group, ai, year, treatment, conclusion, disease, associated, physical, rate, mental'],\n",
       " ['Topic 4',\n",
       "  'network, method, algorithm, neural, performance, feature, proposed, machine, problem, accuracy, classification, prediction, image, time, show'],\n",
       " ['Topic 5',\n",
       "  'system, technology, information, application, tool, computer, user, machine, environment, ai, learner, educational, online, design, technique'],\n",
       " ['Topic 6',\n",
       "  'deep, test, factor, analysis, english, score, assessment, questionnaire, scale, language, surface, university, style, item, sample'],\n",
       " ['Topic 7',\n",
       "  'teacher, knowledge, education, science, practice, process, development, classroom, article, concept, design, theory, analysis, experience, way']]"
      ]
     },
     "execution_count": 171,
     "metadata": {},
     "output_type": "execute_result"
    }
   ],
   "source": [
    "keywords"
   ]
  },
  {
   "cell_type": "code",
   "execution_count": null,
   "metadata": {},
   "outputs": [],
   "source": [
    "topic_ratio_all = {0:0,1:0,2:0,3:0,4:0,5:0,6:0,7:0,8:0,9:0,10:0}\n",
    "for index in range(0,df_filtered.shape[0],1):\n",
    "    for item in topic_ratio[index]:\n",
    "        topic_ratio_all[item[0]] += item[1]\n",
    "for index in topic_ratio_all.keys():\n",
    "    topic_ratio_all[index] = topic_ratio_all[index]/df_filtered.shape[0]\n",
    "topic_ratio_all"
   ]
  },
  {
   "cell_type": "code",
   "execution_count": 172,
   "metadata": {},
   "outputs": [
    {
     "data": {
      "text/plain": [
       "{0: 0.1144559320512343,\n",
       " 1: 0.117031102211772,\n",
       " 2: 0.10715677145196718,\n",
       " 3: 0.12197268693745121,\n",
       " 4: 0.16147309833121412,\n",
       " 5: 0.11969609139656408,\n",
       " 6: 0.04191635279164804,\n",
       " 7: 0.20855478953372045,\n",
       " 8: 0.0,\n",
       " 9: 0.0,\n",
       " 10: 0.0}"
      ]
     },
     "execution_count": 172,
     "metadata": {},
     "output_type": "execute_result"
    }
   ],
   "source": [
    "topic_ratio_usa = {0:0,1:0,2:0,3:0,4:0,5:0,6:0,7:0,8:0,9:0,10:0}\n",
    "for index in back_index_usa:\n",
    "    for item in topic_ratio[index]:\n",
    "        topic_ratio_usa[item[0]] += item[1]\n",
    "for index in topic_ratio_usa.keys():\n",
    "    topic_ratio_usa[index] = topic_ratio_usa[index]/len(back_index_usa)\n",
    "topic_ratio_usa"
   ]
  },
  {
   "cell_type": "code",
   "execution_count": 173,
   "metadata": {},
   "outputs": [
    {
     "data": {
      "text/plain": [
       "{0: 0.06530947707988162,\n",
       " 1: 0.09082949665462366,\n",
       " 2: 0.08435224318527616,\n",
       " 3: 0.06670096741772795,\n",
       " 4: 0.36991391040864985,\n",
       " 5: 0.15951897885961444,\n",
       " 6: 0.04881490166117146,\n",
       " 7: 0.10637417611069395,\n",
       " 8: 0.0,\n",
       " 9: 0.0,\n",
       " 10: 0.0}"
      ]
     },
     "execution_count": 173,
     "metadata": {},
     "output_type": "execute_result"
    }
   ],
   "source": [
    "topic_ratio_china = {0:0,1:0,2:0,3:0,4:0,5:0,6:0,7:0,8:0,9:0,10:0}\n",
    "for index in back_index_china:\n",
    "    for item in topic_ratio[index]:\n",
    "        topic_ratio_china[item[0]] += item[1]\n",
    "for index in topic_ratio_china.keys():\n",
    "    topic_ratio_china[index] = topic_ratio_china[index]/len(back_index_china)\n",
    "topic_ratio_china"
   ]
  },
  {
   "cell_type": "markdown",
   "metadata": {},
   "source": [
    "## USA Backward Citation"
   ]
  },
  {
   "cell_type": "code",
   "execution_count": 175,
   "metadata": {},
   "outputs": [],
   "source": [
    "#Corpus별 표제어(lemmatization) 추출\n",
    "tokenizer = RegexpTokenizer('\\w+')\n",
    "p_stemmer = PorterStemmer()\n",
    "texts = []\n",
    "for item in cps_data_usa:\n",
    "    #corpus 속 숫자 제거\n",
    "    temp = re.sub('[0-9]+','',item)\n",
    "    tokens = tokenizer.tokenize(temp)\n",
    "    #1글자로 이루어진 단어 제거\n",
    "    tokens_overone = [word for word in tokens if len(word) > 1]\n",
    "    #stopword 제거\n",
    "    stopped_tokens = [i for i in tokens_overone if not i in stword]    \n",
    "    # ing형 제거\n",
    "    noning_tokens = [word for word in stopped_tokens if (re.findall('ing$', word) == [])]\n",
    "    # ly형 제거\n",
    "    nonly_tokens = [word for word in noning_tokens if (re.findall('ly$', word) == [])]\n",
    "    #각 단어 표제화\n",
    "    lemmatized_words = [wnl.lemmatize(i) for i in nonly_tokens]\n",
    "    texts.append(lemmatized_words)\n",
    "\n",
    "frequency = {}\n",
    "for corpus in texts:\n",
    "    for word in corpus:\n",
    "        if word in frequency.keys():\n",
    "            frequency[word] +=1\n",
    "        else:\n",
    "            frequency[word] = 1\n",
    "texts_filtered = [ [token for token in text if (1 < frequency[token]) ] for text in texts ]\n",
    "\n",
    "#표제화된 단어들을 이용하여 document-term 테이블 생성\n",
    "dictionary = Dictionary(texts_filtered)\n",
    "docfreq = dictionary.dfs\n",
    "doc_term_matrix = [dictionary.doc2bow(i) for i in texts]"
   ]
  },
  {
   "cell_type": "code",
   "execution_count": 176,
   "metadata": {},
   "outputs": [
    {
     "name": "stdout",
     "output_type": "stream",
     "text": [
      "22771\n"
     ]
    },
    {
     "data": {
      "text/plain": [
       "Text(0, 0.5, 'Frequency')"
      ]
     },
     "execution_count": 176,
     "metadata": {},
     "output_type": "execute_result"
    },
    {
     "data": {
      "image/png": "[encoded data removed]",
      "text/plain": [
       "<Figure size 432x288 with 1 Axes>"
      ]
     },
     "metadata": {
      "needs_background": "light"
     },
     "output_type": "display_data"
    }
   ],
   "source": [
    "#Cheking the freqeuency distribution with all words.\n",
    "term_dic = {}\n",
    "for texts in doc_term_matrix:\n",
    "    for item in texts:\n",
    "        if item[0] in term_dic.keys():\n",
    "            term_dic[item[0]] += item[1]\n",
    "        else:\n",
    "            term_dic[item[0]] = 1\n",
    "term_dic_sorted = sorted(term_dic.items(), key = operator.itemgetter(1))\n",
    "x , y = [] ,[]\n",
    "for i in range(len(term_dic_sorted)):\n",
    "    y.append(term_dic_sorted[i][1])\n",
    "    x.append(i)\n",
    "print(len(term_dic_sorted))\n",
    "plt.plot(x,y, '.')\n",
    "plt.title('Frequency Distribution')\n",
    "plt.xlabel('Words')\n",
    "plt.ylabel('Frequency')"
   ]
  },
  {
   "cell_type": "code",
   "execution_count": 177,
   "metadata": {},
   "outputs": [
    {
     "name": "stdout",
     "output_type": "stream",
     "text": [
      "student 27064\n",
      "study 16095\n",
      "data 11081\n",
      "model 10858\n",
      "research 10289\n",
      "result 9841\n",
      "teacher 8287\n",
      "method 8028\n",
      "school 7304\n",
      "analysis 7286\n",
      "education 6700\n",
      "approach 6387\n",
      "system 6315\n",
      "effect 6072\n",
      "group 6040\n",
      "practice 5731\n",
      "problem 5671\n",
      "knowledge 5587\n",
      "science 5515\n",
      "performance 5485\n",
      "level 5286\n",
      "time 5071\n",
      "development 4935\n",
      "process 4827\n",
      "course 4795\n",
      "design 4791\n",
      "program 4459\n",
      "self 4437\n",
      "health 4179\n",
      "social 4168\n"
     ]
    }
   ],
   "source": [
    "for item in sorted(term_dic.items(), key = operator.itemgetter(1), reverse = True)[0:30]:\n",
    "    print(dictionary[item[0]], item[1])"
   ]
  },
  {
   "cell_type": "code",
   "execution_count": 178,
   "metadata": {},
   "outputs": [],
   "source": [
    "#Corpus별 표제어(lemmatization) 추출\n",
    "tokenizer = RegexpTokenizer('\\w+')\n",
    "p_stemmer = PorterStemmer()\n",
    "texts = []\n",
    "for item in cps_data_usa:\n",
    "    #corpus 속 숫자 제거\n",
    "    temp = re.sub('[0-9]+','',item)\n",
    "    tokens = tokenizer.tokenize(temp)\n",
    "    #1글자로 이루어진 단어 제거\n",
    "    tokens_overone = [word for word in tokens if len(word) > 1]\n",
    "    #stopword 제거\n",
    "    stopped_tokens = [i for i in tokens_overone if not i in stword]    \n",
    "    # ing형 제거\n",
    "    noning_tokens = [word for word in stopped_tokens if (re.findall('ing$', word) == [])]\n",
    "    # ly형 제거\n",
    "    nonly_tokens = [word for word in noning_tokens if (re.findall('ly$', word) == [])]\n",
    "    #각 단어 표제화\n",
    "    lemmatized_words = [wnl.lemmatize(i) for i in nonly_tokens]\n",
    "    #filtered_words = [word for word in lemmatized_words if not word in filter_words]\n",
    "    texts.append(lemmatized_words)\n",
    "\n",
    "\n",
    "limit = 10000\n",
    "num_tps = 8\n",
    "frequency = {}\n",
    "for corpus in texts:\n",
    "    for word in corpus:\n",
    "        if word in frequency.keys():\n",
    "            frequency[word] +=1\n",
    "        else:\n",
    "            frequency[word] = 1\n",
    "texts_filtered = [ [token for token in text if (1 < frequency[token]<limit)] for text in texts ]\n",
    "\n",
    "#표제화된 단어들을 이용하여 document-term 테이블 생성\n",
    "dictionary = Dictionary(texts_filtered)\n",
    "docfreq = dictionary.dfs\n",
    "doc_term_matrix = [dictionary.doc2bow(i) for i in texts]\n",
    "\n",
    "ldaModel = models.ldamodel.LdaModel(corpus=doc_term_matrix, num_topics = num_tps, id2word = dictionary, \n",
    "                                    passes=15, alpha = 'symmetric', iterations = 10)\n",
    "ldaTopics = ldaModel.print_topics(num_topics = num_tps, num_words = 15)\n",
    "keywords = []\n",
    "for i in range(len(ldaTopics)):\n",
    "    string = ''\n",
    "    for item in ldaTopics[i][1].split('+'):\n",
    "        string += (item.split('*')[1].replace(r'\"','') + '')\n",
    "    keywords.append(['Topic ' + str(ldaTopics[i][0])] + [string.replace(' ',', ')])\n",
    "topic_ratio = []\n",
    "for i in range(len(doc_term_matrix)):\n",
    "    topic_ratio.append(ldaModel[doc_term_matrix[i]])"
   ]
  },
  {
   "cell_type": "code",
   "execution_count": 179,
   "metadata": {},
   "outputs": [
    {
     "data": {
      "text/plain": [
       "[['Topic 0',\n",
       "  'method, system, network, algorithm, approach, image, feature, information, machine, result, set, performance, time, problem, application'],\n",
       " ['Topic 1',\n",
       "  'brain, cell, response, activity, region, energy, neuron, protein, result, effect, functional, area, human, gene, function'],\n",
       " ['Topic 2',\n",
       "  'health, american, alcohol, community, college, youth, ai, school, care, risk, program, service, population, indian, intervention'],\n",
       " ['Topic 3',\n",
       "  'child, patient, age, effect, risk, school, result, year, group, treatment, outcome, intervention, score, time, rate'],\n",
       " ['Topic 4',\n",
       "  'teacher, education, practice, science, development, school, article, knowledge, design, technology, educational, classroom, approach, curriculum, experience'],\n",
       " ['Topic 5',\n",
       "  'medical, self, clinical, result, academic, factor, relationship, patient, measure, performance, analysis, outcome, care, method, effect'],\n",
       " ['Topic 6',\n",
       "  'theory, system, cognitive, human, social, process, interaction, behavior, learner, individual, task, game, knowledge, may, environment'],\n",
       " ['Topic 7',\n",
       "  'course, group, test, result, class, knowledge, language, performance, question, problem, instruction, effect, level, feedback, assessment']]"
      ]
     },
     "execution_count": 179,
     "metadata": {},
     "output_type": "execute_result"
    }
   ],
   "source": [
    "keywords"
   ]
  },
  {
   "cell_type": "markdown",
   "metadata": {},
   "source": [
    "## China Backward Citation"
   ]
  },
  {
   "cell_type": "code",
   "execution_count": 181,
   "metadata": {},
   "outputs": [],
   "source": [
    "#Corpus별 표제어(lemmatization) 추출\n",
    "tokenizer = RegexpTokenizer('\\w+')\n",
    "p_stemmer = PorterStemmer()\n",
    "texts = []\n",
    "for item in cps_data_china:\n",
    "    #corpus 속 숫자 제거\n",
    "    temp = re.sub('[0-9]+','',item)\n",
    "    tokens = tokenizer.tokenize(temp)\n",
    "    #1글자로 이루어진 단어 제거\n",
    "    tokens_overone = [word for word in tokens if len(word) > 1]\n",
    "    #stopword 제거\n",
    "    stopped_tokens = [i for i in tokens_overone if not i in stword]    \n",
    "    # ing형 제거\n",
    "    noning_tokens = [word for word in stopped_tokens if (re.findall('ing$', word) == [])]\n",
    "    # ly형 제거\n",
    "    nonly_tokens = [word for word in noning_tokens if (re.findall('ly$', word) == [])]\n",
    "    #각 단어 표제화\n",
    "    lemmatized_words = [wnl.lemmatize(i) for i in nonly_tokens]\n",
    "    texts.append(lemmatized_words)\n",
    "\n",
    "frequency = {}\n",
    "for corpus in texts:\n",
    "    for word in corpus:\n",
    "        if word in frequency.keys():\n",
    "            frequency[word] +=1\n",
    "        else:\n",
    "            frequency[word] = 1\n",
    "texts_filtered = [ [token for token in text if (1 < frequency[token]) ] for text in texts ]\n",
    "\n",
    "#표제화된 단어들을 이용하여 document-term 테이블 생성\n",
    "dictionary = Dictionary(texts_filtered)\n",
    "docfreq = dictionary.dfs\n",
    "doc_term_matrix = [dictionary.doc2bow(i) for i in texts]"
   ]
  },
  {
   "cell_type": "code",
   "execution_count": 182,
   "metadata": {},
   "outputs": [
    {
     "name": "stdout",
     "output_type": "stream",
     "text": [
      "16869\n"
     ]
    },
    {
     "data": {
      "text/plain": [
       "Text(0, 0.5, 'Frequency')"
      ]
     },
     "execution_count": 182,
     "metadata": {},
     "output_type": "execute_result"
    },
    {
     "data": {
      "image/png": "[encoded data removed]",
      "text/plain": [
       "<Figure size 432x288 with 1 Axes>"
      ]
     },
     "metadata": {
      "needs_background": "light"
     },
     "output_type": "display_data"
    }
   ],
   "source": [
    "#Cheking the freqeuency distribution with all words.\n",
    "term_dic = {}\n",
    "for texts in doc_term_matrix:\n",
    "    for item in texts:\n",
    "        if item[0] in term_dic.keys():\n",
    "            term_dic[item[0]] += item[1]\n",
    "        else:\n",
    "            term_dic[item[0]] = 1\n",
    "term_dic_sorted = sorted(term_dic.items(), key = operator.itemgetter(1))\n",
    "x , y = [] ,[]\n",
    "for i in range(len(term_dic_sorted)):\n",
    "    y.append(term_dic_sorted[i][1])\n",
    "    x.append(i)\n",
    "print(len(term_dic_sorted))\n",
    "plt.plot(x,y, '.')\n",
    "plt.title('Frequency Distribution')\n",
    "plt.xlabel('Words')\n",
    "plt.ylabel('Frequency')"
   ]
  },
  {
   "cell_type": "code",
   "execution_count": 183,
   "metadata": {},
   "outputs": [
    {
     "name": "stdout",
     "output_type": "stream",
     "text": [
      "student 11538\n",
      "data 8591\n",
      "model 7883\n",
      "study 7526\n",
      "method 7124\n",
      "result 6735\n",
      "system 5222\n",
      "approach 5102\n",
      "algorithm 5038\n",
      "network 4980\n",
      "performance 4849\n",
      "proposed 4274\n",
      "problem 4021\n",
      "analysis 3955\n",
      "research 3861\n",
      "feature 3232\n",
      "different 3120\n",
      "time 3094\n",
      "education 3016\n",
      "course 2812\n",
      "image 2764\n",
      "teacher 2763\n",
      "information 2751\n",
      "process 2727\n",
      "show 2664\n",
      "group 2523\n",
      "level 2522\n",
      "knowledge 2478\n",
      "elsevier 2469\n",
      "right 2341\n"
     ]
    }
   ],
   "source": [
    "for item in sorted(term_dic.items(), key = operator.itemgetter(1), reverse = True)[0:30]:\n",
    "    print(dictionary[item[0]], item[1])"
   ]
  },
  {
   "cell_type": "code",
   "execution_count": 184,
   "metadata": {},
   "outputs": [],
   "source": [
    "#Corpus별 표제어(lemmatization) 추출\n",
    "tokenizer = RegexpTokenizer('\\w+')\n",
    "p_stemmer = PorterStemmer()\n",
    "texts = []\n",
    "for item in cps_data_china:\n",
    "    #corpus 속 숫자 제거\n",
    "    temp = re.sub('[0-9]+','',item)\n",
    "    tokens = tokenizer.tokenize(temp)\n",
    "    #1글자로 이루어진 단어 제거\n",
    "    tokens_overone = [word for word in tokens if len(word) > 1]\n",
    "    #stopword 제거\n",
    "    stopped_tokens = [i for i in tokens_overone if not i in stword]    \n",
    "    # ing형 제거\n",
    "    noning_tokens = [word for word in stopped_tokens if (re.findall('ing$', word) == [])]\n",
    "    # ly형 제거\n",
    "    nonly_tokens = [word for word in noning_tokens if (re.findall('ly$', word) == [])]\n",
    "    #각 단어 표제화\n",
    "    lemmatized_words = [wnl.lemmatize(i) for i in nonly_tokens]\n",
    "    #filtered_words = [word for word in lemmatized_words if not word in filter_words]\n",
    "    texts.append(lemmatized_words)\n",
    "\n",
    "\n",
    "limit = 4100\n",
    "num_tps = 8\n",
    "frequency = {}\n",
    "for corpus in texts:\n",
    "    for word in corpus:\n",
    "        if word in frequency.keys():\n",
    "            frequency[word] +=1\n",
    "        else:\n",
    "            frequency[word] = 1\n",
    "texts_filtered = [ [token for token in text if (1 < frequency[token]<limit)] for text in texts ]\n",
    "\n",
    "#표제화된 단어들을 이용하여 document-term 테이블 생성\n",
    "dictionary = Dictionary(texts_filtered)\n",
    "docfreq = dictionary.dfs\n",
    "doc_term_matrix = [dictionary.doc2bow(i) for i in texts]\n",
    "\n",
    "ldaModel = models.ldamodel.LdaModel(corpus=doc_term_matrix, num_topics = num_tps, id2word = dictionary, \n",
    "                                    passes=15, alpha = 'symmetric', iterations = 10)\n",
    "ldaTopics = ldaModel.print_topics(num_topics = num_tps, num_words = 15)\n",
    "keywords = []\n",
    "for i in range(len(ldaTopics)):\n",
    "    string = ''\n",
    "    for item in ldaTopics[i][1].split('+'):\n",
    "        string += (item.split('*')[1].replace(r'\"','') + '')\n",
    "    keywords.append(['Topic ' + str(ldaTopics[i][0])] + [string.replace(' ',', ')])\n",
    "topic_ratio = []\n",
    "for i in range(len(doc_term_matrix)):\n",
    "    topic_ratio.append(ldaModel[doc_term_matrix[i]])"
   ]
  },
  {
   "cell_type": "code",
   "execution_count": 185,
   "metadata": {},
   "outputs": [
    {
     "data": {
      "text/plain": [
       "[['Topic 0',\n",
       "  'problem, optimization, function, energy, parameter, simulation, right, elsevier, solution, reserved, process, show, control, search, optimal'],\n",
       " ['Topic 1',\n",
       "  'research, education, teacher, technology, development, assessment, practice, educational, knowledge, classroom, article, review, language, english, concept'],\n",
       " ['Topic 2',\n",
       "  'course, user, online, learner, interaction, information, environment, computer, activity, behavior, problem, different, recommendation, tool, knowledge'],\n",
       " ['Topic 3',\n",
       "  'image, feature, recognition, deep, task, domain, state, neural, object, art, propose, detection, classification, accuracy, representation'],\n",
       " ['Topic 4',\n",
       "  'control, mobile, brain, cloud, functional, device, gene, spectrum, sensor, activity, structure, human, dynamic, cell, effect'],\n",
       " ['Topic 5',\n",
       "  'self, academic, social, factor, effect, relationship, analysis, motivation, achievement, university, level, positive, school, research, group'],\n",
       " ['Topic 6',\n",
       "  'machine, time, prediction, classification, set, analysis, technique, accuracy, information, feature, decision, selection, term, vector, show'],\n",
       " ['Topic 7',\n",
       "  'patient, health, care, medical, genetic, test, clinical, medicine, child, group, physician, risk, conclusion, genomic, age']]"
      ]
     },
     "execution_count": 185,
     "metadata": {},
     "output_type": "execute_result"
    }
   ],
   "source": [
    "keywords"
   ]
  }
 ],
 "metadata": {
  "kernelspec": {
   "display_name": "Python 3 (ipykernel)",
   "language": "python",
   "name": "python3"
  },
  "language_info": {
   "codemirror_mode": {
    "name": "ipython",
    "version": 3
   },
   "file_extension": ".py",
   "mimetype": "text/x-python",
   "name": "python",
   "nbconvert_exporter": "python",
   "pygments_lexer": "ipython3",
   "version": "3.8.5"
  }
 },
 "nbformat": 4,
 "nbformat_minor": 4
}
