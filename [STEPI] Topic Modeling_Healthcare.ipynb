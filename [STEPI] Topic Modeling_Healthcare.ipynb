{
 "cells": [
  {
   "cell_type": "code",
   "execution_count": 586,
   "metadata": {},
   "outputs": [],
   "source": [
    "import numpy as np\n",
    "import pandas as pd\n",
    "import os\n",
    "import matplotlib.pyplot as plt\n",
    "import re\n",
    "import operator\n",
    "from sklearn.feature_extraction.text import CountVectorizer, TfidfVectorizer\n",
    "from sklearn.decomposition import TruncatedSVD\n",
    "from sklearn.preprocessing import Normalizer\n",
    "from gensim.corpora.dictionary import Dictionary\n",
    "from gensim import models\n",
    "from gensim.models.coherencemodel import CoherenceModel\n",
    "from nltk.tokenize import RegexpTokenizer\n",
    "from nltk.stem import WordNetLemmatizer\n",
    "from nltk.corpus import stopwords\n",
    "from nltk.stem.porter import PorterStemmer\n",
    "wnl = WordNetLemmatizer()"
   ]
  },
  {
   "cell_type": "code",
   "execution_count": 587,
   "metadata": {},
   "outputs": [],
   "source": [
    "df = pd.read_excel(r'C:\\Users\\Yunseok Choi\\Google 드라이브\\기술경영대학원\\STEPI\\AI_Healthcare_PUB_country.xlsx', index_col = 0)\n",
    "df.drop('Unnamed: 0.1', axis = 1, inplace = True )\n",
    "df.fillna('', inplace = True)"
   ]
  },
  {
   "cell_type": "code",
   "execution_count": 588,
   "metadata": {},
   "outputs": [],
   "source": [
    "stword = stopwords.words('english')\n",
    "#Stopword 추가\n",
    "stword_add = ['one','two','three','four','five','six','seven','eight','nine','ten', 'increasing','decreasing',\n",
    "              'half','must','say','said','able','therefore','higher','lower','better','asking','largerst','smallest','come',\n",
    "             'th','highest','lowest','whatever','help','v','c','high','low','iii','i','ii','iv','v','vi','vii','viii','every',\n",
    "             'first','second','third','fourth','fifth','sixth','seventh','eighth', 'also', 'table', 'fig']\n",
    "stword.extend(stword_add)\n",
    "stword.extend(['de','however','use','used','de'])\n",
    "stword.extend(['big','small'])"
   ]
  },
  {
   "cell_type": "code",
   "execution_count": 589,
   "metadata": {},
   "outputs": [],
   "source": [
    "def text_extraction(min_year = 2000,max_year = 2020,country_name = '', data = df):\n",
    "    i = 0\n",
    "    cps_name, cps_data = [], []\n",
    "    if country_name == '':\n",
    "        for item in df[(df['Publication Year'] <= max_year) & (df['Publication Year'] >= min_year)]['Abstract']:\n",
    "            globals()['cps{}'.format(i)] = item.lower()\n",
    "            cps_name.append('cps{}'.format(i))\n",
    "            cps_data.append(globals()['cps{}'.format(i)])\n",
    "            i += 1\n",
    "    if country_name != '':\n",
    "        for item in df[(df['Publication Year'] <= max_year) & (df['Publication Year'] >= min_year) & (df['Country'] == country_name)]['Abstract']:\n",
    "            globals()['cps{}'.format(i)] = item.lower()\n",
    "            cps_name.append('cps{}'.format(i))\n",
    "            cps_data.append(globals()['cps{}'.format(i)])\n",
    "            i += 1\n",
    "    return cps_name, cps_data"
   ]
  },
  {
   "cell_type": "code",
   "execution_count": 590,
   "metadata": {},
   "outputs": [],
   "source": [
    "#Defining functino for plotting with word frequency limitation as input.\n",
    "def coherence_score(limit, passes = 15, cps_data = cps_data):\n",
    "    tokenizer = RegexpTokenizer('\\w+')\n",
    "    p_stemmer = PorterStemmer()\n",
    "    texts = []\n",
    "    for item in cps_data:\n",
    "        #corpus 속 숫자 제거\n",
    "        temp = re.sub('[0-9]+','',item)\n",
    "        tokens = tokenizer.tokenize(temp)\n",
    "        #1글자로 이루어진 단어 제거\n",
    "        tokens_overone = [word for word in tokens if len(word) > 1]\n",
    "        #stopword 제거\n",
    "        stopped_tokens = [i for i in tokens_overone if not i in stword]    \n",
    "        # ing형 제거\n",
    "        noning_tokens = [word for word in stopped_tokens if (re.findall('ing$', word) == [])]\n",
    "        # ly형 제거\n",
    "        nonly_tokens = [word for word in noning_tokens if (re.findall('ly$', word) == [])]\n",
    "        #각 단어 표제화\n",
    "        lemmatized_words = [wnl.lemmatize(i) for i in nonly_tokens]\n",
    "        texts.append(lemmatized_words)\n",
    "\n",
    "    frequency = {}\n",
    "    for corpus in texts:\n",
    "        for word in corpus:\n",
    "            if word in frequency.keys():\n",
    "                frequency[word] +=1\n",
    "            else:\n",
    "                frequency[word] = 1\n",
    "    texts_filtered = [ [token for token in text if (1 < frequency[token] < limit) ] for text in texts ]\n",
    "\n",
    "    #표제화된 단어들을 이용하여 document-term 테이블 생성\n",
    "    dictionary = Dictionary(texts_filtered)\n",
    "    docfreq = dictionary.dfs\n",
    "    doc_term_matrix = [dictionary.doc2bow(i) for i in texts]\n",
    "\n",
    "    #토픽의 개수별 gensim LDA 모델의 coherence score 체크\n",
    "    coherence_values = []\n",
    "    model_list = []\n",
    "    for n_topics in range(2,30,1):\n",
    "        model = models.ldamodel.LdaModel(corpus=doc_term_matrix, num_topics = n_topics, id2word = dictionary, \n",
    "                                         passes=passes, alpha = 'symmetric', iterations = 10)\n",
    "        model_list.append(model)\n",
    "        coherencemodel = CoherenceModel(model = model, texts = texts, dictionary = dictionary, coherence = 'c_v')\n",
    "        coherence_values.append(coherencemodel.get_coherence())\n",
    "\n",
    "    x = range(2,30,1)\n",
    "    plt.plot(x, coherence_values)\n",
    "    plt.title('Coherence Score of LDA (< {} Counts)'.format(limit))\n",
    "    plt.xlabel('Number of Topics')\n",
    "    plt.ylabel('Coherence Score')\n",
    "    plt.legend(('coherence_values'),loc = 'best')\n",
    "    return plt.show()"
   ]
  },
  {
   "cell_type": "code",
   "execution_count": 591,
   "metadata": {},
   "outputs": [],
   "source": [
    "#defining print function of showing 15 keywords and document-topic information, \n",
    "#having word frequency limit and number of topics as input.\n",
    "def lda_analysis(limit, num_tps):\n",
    "    \n",
    "    frequency = {}\n",
    "    for corpus in texts:\n",
    "        for word in corpus:\n",
    "            if word in frequency.keys():\n",
    "                frequency[word] +=1\n",
    "            else:\n",
    "                frequency[word] = 1\n",
    "    texts_filtered = [ [token for token in text if (1 < frequency[token]<limit)] for text in texts ]\n",
    "\n",
    "    #표제화된 단어들을 이용하여 document-term 테이블 생성\n",
    "    dictionary = Dictionary(texts_filtered)\n",
    "    docfreq = dictionary.dfs\n",
    "    doc_term_matrix = [dictionary.doc2bow(i) for i in texts]\n",
    "\n",
    "    ldaModel = models.ldamodel.LdaModel(corpus=doc_term_matrix, num_topics = num_tps, id2word = dictionary, \n",
    "                                        passes=15, alpha = 'symmetric', iterations = 10)\n",
    "    ldaTopics = ldaModel.print_topics(num_topics = num_tps, num_words = 15)\n",
    "    temp = []\n",
    "    for i in range(len(ldaTopics)):\n",
    "        string = ''\n",
    "        for item in ldaTopics[i][1].split('+'):\n",
    "            string += (item.split('*')[1].replace(r'\"','') + '')\n",
    "        temp.append(['Topic ' + str(ldaTopics[i][0])] + [string.replace(' ',', ')])\n",
    "    print(temp)\n",
    "    for i in range(len(doc_term_matrix)):\n",
    "        print(ldaModel[doc_term_matrix[i]])"
   ]
  },
  {
   "cell_type": "markdown",
   "metadata": {},
   "source": [
    "## 2010~2020, 전체 데이터"
   ]
  },
  {
   "cell_type": "code",
   "execution_count": 592,
   "metadata": {},
   "outputs": [],
   "source": [
    "cps_name, cps_data = text_extraction(2010,2020)"
   ]
  },
  {
   "cell_type": "code",
   "execution_count": 593,
   "metadata": {},
   "outputs": [],
   "source": [
    "#Corpus별 표제어(lemmatization) 추출\n",
    "tokenizer = RegexpTokenizer('\\w+')\n",
    "p_stemmer = PorterStemmer()\n",
    "texts = []\n",
    "for item in cps_data:\n",
    "    #corpus 속 숫자 제거\n",
    "    temp = re.sub('[0-9]+','',item)\n",
    "    tokens = tokenizer.tokenize(temp)\n",
    "    #1글자로 이루어진 단어 제거\n",
    "    tokens_overone = [word for word in tokens if len(word) > 1]\n",
    "    #stopword 제거\n",
    "    stopped_tokens = [i for i in tokens_overone if not i in stword]    \n",
    "    # ing형 제거\n",
    "    noning_tokens = [word for word in stopped_tokens if (re.findall('ing$', word) == [])]\n",
    "    # ly형 제거\n",
    "    nonly_tokens = [word for word in noning_tokens if (re.findall('ly$', word) == [])]\n",
    "    #각 단어 표제화\n",
    "    lemmatized_words = [wnl.lemmatize(i) for i in nonly_tokens]\n",
    "    texts.append(lemmatized_words)\n",
    "\n",
    "frequency = {}\n",
    "for corpus in texts:\n",
    "    for word in corpus:\n",
    "        if word in frequency.keys():\n",
    "            frequency[word] +=1\n",
    "        else:\n",
    "            frequency[word] = 1\n",
    "texts_filtered = [ [token for token in text if (1 < frequency[token]) ] for text in texts ]\n",
    "\n",
    "#표제화된 단어들을 이용하여 document-term 테이블 생성\n",
    "dictionary = Dictionary(texts_filtered)\n",
    "docfreq = dictionary.dfs\n",
    "doc_term_matrix = [dictionary.doc2bow(i) for i in texts]"
   ]
  },
  {
   "cell_type": "code",
   "execution_count": 303,
   "metadata": {
    "scrolled": true
   },
   "outputs": [
    {
     "name": "stdout",
     "output_type": "stream",
     "text": [
      "12662\n"
     ]
    },
    {
     "data": {
      "text/plain": [
       "Text(0, 0.5, 'Frequency')"
      ]
     },
     "execution_count": 303,
     "metadata": {},
     "output_type": "execute_result"
    },
    {
     "data": {
      "image/png": "[encoded data removed]",
      "text/plain": [
       "<Figure size 432x288 with 1 Axes>"
      ]
     },
     "metadata": {
      "needs_background": "light"
     },
     "output_type": "display_data"
    }
   ],
   "source": [
    "#Cheking the freqeuency distribution with all words.\n",
    "term_dic = {}\n",
    "for texts in doc_term_matrix:\n",
    "    for item in texts:\n",
    "        if item[0] in term_dic.keys():\n",
    "            term_dic[item[0]] += item[1]\n",
    "        else:\n",
    "            term_dic[item[0]] = 1\n",
    "term_dic_sorted = sorted(term_dic.items(), key = operator.itemgetter(1))\n",
    "x , y = [] ,[]\n",
    "for i in range(len(term_dic_sorted)):\n",
    "    y.append(term_dic_sorted[i][1])\n",
    "    x.append(i)\n",
    "print(len(term_dic_sorted))\n",
    "plt.plot(x,y, '.')\n",
    "plt.title('Frequency Distribution')\n",
    "plt.xlabel('Words')\n",
    "plt.ylabel('Frequency')"
   ]
  },
  {
   "cell_type": "code",
   "execution_count": 304,
   "metadata": {},
   "outputs": [
    {
     "name": "stdout",
     "output_type": "stream",
     "text": [
      "data 15749\n",
      "healthcare 9257\n",
      "patient 6780\n",
      "system 5842\n",
      "model 5839\n",
      "health 5681\n",
      "based 4696\n",
      "method 4004\n",
      "big 3867\n",
      "machine 3816\n",
      "study 3621\n",
      "medical 3587\n",
      "result 3557\n",
      "used 3062\n",
      "paper 3019\n",
      "disease 2980\n",
      "network 2931\n",
      "information 2875\n",
      "application 2821\n",
      "algorithm 2731\n",
      "approach 2730\n",
      "analysis 2717\n",
      "proposed 2700\n",
      "time 2699\n",
      "care 2686\n",
      "research 2679\n",
      "technology 2564\n",
      "ai 2484\n",
      "clinical 2453\n",
      "use 2274\n"
     ]
    }
   ],
   "source": [
    "for item in sorted(term_dic.items(), key = operator.itemgetter(1), reverse = True)[0:30]:\n",
    "    print(dictionary[item[0]], item[1])"
   ]
  },
  {
   "cell_type": "code",
   "execution_count": 309,
   "metadata": {},
   "outputs": [
    {
     "data": {
      "image/png": "[encoded data removed]",
      "text/plain": [
       "<Figure size 432x288 with 1 Axes>"
      ]
     },
     "metadata": {
      "needs_background": "light"
     },
     "output_type": "display_data"
    }
   ],
   "source": [
    "coherence_score(3000)"
   ]
  },
  {
   "cell_type": "code",
   "execution_count": 594,
   "metadata": {},
   "outputs": [],
   "source": [
    "#Corpus별 표제어(lemmatization) 추출\n",
    "tokenizer = RegexpTokenizer('\\w+')\n",
    "p_stemmer = PorterStemmer()\n",
    "texts = []\n",
    "for item in cps_data:\n",
    "    #corpus 속 숫자 제거\n",
    "    temp = re.sub('[0-9]+','',item)\n",
    "    tokens = tokenizer.tokenize(temp)\n",
    "    #1글자로 이루어진 단어 제거\n",
    "    tokens_overone = [word for word in tokens if len(word) > 1]\n",
    "    #stopword 제거\n",
    "    stopped_tokens = [i for i in tokens_overone if not i in stword]    \n",
    "    # ing형 제거\n",
    "    noning_tokens = [word for word in stopped_tokens if (re.findall('ing$', word) == [])]\n",
    "    # ly형 제거\n",
    "    nonly_tokens = [word for word in noning_tokens if (re.findall('ly$', word) == [])]\n",
    "    #각 단어 표제화\n",
    "    lemmatized_words = [wnl.lemmatize(i) for i in nonly_tokens]\n",
    "    #filtered_words = [word for word in lemmatized_words if not word in filter_words]\n",
    "    texts.append(lemmatized_words)\n",
    "\n",
    "\n",
    "limit = 3000\n",
    "num_tps = 5\n",
    "frequency = {}\n",
    "for corpus in texts:\n",
    "    for word in corpus:\n",
    "        if word in frequency.keys():\n",
    "            frequency[word] +=1\n",
    "        else:\n",
    "            frequency[word] = 1\n",
    "texts_filtered = [ [token for token in text if (1 < frequency[token]<limit)] for text in texts ]\n",
    "\n",
    "#표제화된 단어들을 이용하여 document-term 테이블 생성\n",
    "dictionary = Dictionary(texts_filtered)\n",
    "docfreq = dictionary.dfs\n",
    "doc_term_matrix = [dictionary.doc2bow(i) for i in texts]\n",
    "\n",
    "ldaModel = models.ldamodel.LdaModel(corpus=doc_term_matrix, num_topics = num_tps, id2word = dictionary, \n",
    "                                    passes=15, alpha = 'symmetric', iterations = 10)\n",
    "ldaTopics = ldaModel.print_topics(num_topics = num_tps, num_words = 15)\n",
    "keywords = []\n",
    "for i in range(len(ldaTopics)):\n",
    "    string = ''\n",
    "    for item in ldaTopics[i][1].split('+'):\n",
    "        string += (item.split('*')[1].replace(r'\"','') + '')\n",
    "    keywords.append(['Topic ' + str(ldaTopics[i][0])] + [string.replace(' ',', ')])\n",
    "topic_ratio = []\n",
    "for i in range(len(doc_term_matrix)):\n",
    "    topic_ratio.append(ldaModel[doc_term_matrix[i]])"
   ]
  },
  {
   "cell_type": "code",
   "execution_count": 598,
   "metadata": {},
   "outputs": [
    {
     "data": {
      "text/plain": [
       "[['Topic 0',\n",
       "  'ai, care, research, clinical, medicine, practice, intelligence, review, artificial, development, technology, potential, student, challenge, need'],\n",
       " ['Topic 1',\n",
       "  'network, proposed, deep, neural, time, image, feature, sensor, accuracy, algorithm, activity, classification, approach, application, signal'],\n",
       " ['Topic 2',\n",
       "  'disease, risk, hospital, prediction, cost, care, clinical, factor, outcome, year, treatment, diabetes, predictive, variable, rate'],\n",
       " ['Topic 3',\n",
       "  'technology, information, application, service, analytics, cloud, iot, challenge, analysis, smart, privacy, security, framework, user, new'],\n",
       " ['Topic 4',\n",
       "  'algorithm, decision, approach, performance, classification, feature, technique, support, information, prediction, cancer, accuracy, classifier, ml, dataset']]"
      ]
     },
     "execution_count": 598,
     "metadata": {},
     "output_type": "execute_result"
    }
   ],
   "source": [
    "keywords"
   ]
  },
  {
   "cell_type": "code",
   "execution_count": 476,
   "metadata": {},
   "outputs": [],
   "source": [
    "df_filtered = df[(df['Publication Year'] <= 2020) & (df['Publication Year'] >= 2010)]\n",
    "df_filtered.reset_index(inplace = True)"
   ]
  },
  {
   "cell_type": "code",
   "execution_count": 477,
   "metadata": {},
   "outputs": [],
   "source": [
    "usa_index = df_filtered[df_filtered['Country'] == 'USA'].index"
   ]
  },
  {
   "cell_type": "code",
   "execution_count": 597,
   "metadata": {},
   "outputs": [
    {
     "data": {
      "text/plain": [
       "{0: 0.20768035036332297,\n",
       " 1: 0.23451814426422862,\n",
       " 2: 0.162762827569411,\n",
       " 3: 0.26721057507993007,\n",
       " 4: 0.12261596776958754,\n",
       " 5: 0.0,\n",
       " 6: 0.0,\n",
       " 7: 0.0,\n",
       " 8: 0.0,\n",
       " 9: 0.0,\n",
       " 10: 0.0}"
      ]
     },
     "execution_count": 597,
     "metadata": {},
     "output_type": "execute_result"
    }
   ],
   "source": [
    "topic_ratio_all = {0:0,1:0,2:0,3:0,4:0,5:0,6:0,7:0,8:0,9:0,10:0}\n",
    "for index in range(0,df_filtered.shape[0],1):\n",
    "    for item in topic_ratio[index]:\n",
    "        topic_ratio_all[item[0]] += item[1]\n",
    "for index in topic_ratio_all.keys():\n",
    "    topic_ratio_all[index] = topic_ratio_all[index]/df_filtered.shape[0]\n",
    "topic_ratio_all"
   ]
  },
  {
   "cell_type": "code",
   "execution_count": 395,
   "metadata": {},
   "outputs": [
    {
     "data": {
      "text/plain": [
       "{0: 0.19199494514899706,\n",
       " 1: 0.2559575335126536,\n",
       " 2: 0.12974060650442762,\n",
       " 3: 0.1287771977178109,\n",
       " 4: 0.2887625373759849,\n",
       " 5: 0.0,\n",
       " 6: 0.0,\n",
       " 7: 0.0,\n",
       " 8: 0.0,\n",
       " 9: 0.0,\n",
       " 10: 0.0}"
      ]
     },
     "execution_count": 395,
     "metadata": {},
     "output_type": "execute_result"
    }
   ],
   "source": [
    "topic_ratio_usa = {0:0,1:0,2:0,3:0,4:0,5:0,6:0,7:0,8:0,9:0,10:0}\n",
    "for index in usa_index:\n",
    "    for item in topic_ratio[index]:\n",
    "        topic_ratio_usa[item[0]] += item[1]\n",
    "for index in topic_ratio_usa.keys():\n",
    "    topic_ratio_usa[index] = topic_ratio_usa[index]/len(usa_index)\n",
    "topic_ratio_usa"
   ]
  },
  {
   "cell_type": "code",
   "execution_count": 478,
   "metadata": {},
   "outputs": [],
   "source": [
    "china_index = df_filtered[df_filtered['Country'] == 'China'].index"
   ]
  },
  {
   "cell_type": "code",
   "execution_count": 397,
   "metadata": {},
   "outputs": [
    {
     "data": {
      "text/plain": [
       "{0: 0.3202295124365558,\n",
       " 1: 0.12578041366143752,\n",
       " 2: 0.2782293088535117,\n",
       " 3: 0.08384655292461356,\n",
       " 4: 0.18640570536879222,\n",
       " 5: 0.0,\n",
       " 6: 0.0,\n",
       " 7: 0.0,\n",
       " 8: 0.0,\n",
       " 9: 0.0,\n",
       " 10: 0.0}"
      ]
     },
     "execution_count": 397,
     "metadata": {},
     "output_type": "execute_result"
    }
   ],
   "source": [
    "topic_ratio_china = {0:0,1:0,2:0,3:0,4:0,5:0,6:0,7:0,8:0,9:0,10:0}\n",
    "for index in china_index:\n",
    "    for item in topic_ratio[index]:\n",
    "        topic_ratio_china[item[0]] += item[1]\n",
    "for index in topic_ratio_china.keys():\n",
    "    topic_ratio_china[index] = topic_ratio_china[index]/len(china_index)\n",
    "topic_ratio_china"
   ]
  },
  {
   "cell_type": "code",
   "execution_count": 398,
   "metadata": {},
   "outputs": [
    {
     "data": {
      "text/plain": [
       "496"
      ]
     },
     "execution_count": 398,
     "metadata": {},
     "output_type": "execute_result"
    }
   ],
   "source": [
    "len(china_index)"
   ]
  },
  {
   "cell_type": "code",
   "execution_count": 399,
   "metadata": {},
   "outputs": [
    {
     "data": {
      "text/plain": [
       "1436"
      ]
     },
     "execution_count": 399,
     "metadata": {},
     "output_type": "execute_result"
    }
   ],
   "source": [
    "len(usa_index)"
   ]
  },
  {
   "cell_type": "markdown",
   "metadata": {},
   "source": [
    "## USA Topic Modeling"
   ]
  },
  {
   "cell_type": "code",
   "execution_count": 400,
   "metadata": {},
   "outputs": [],
   "source": [
    "i = 0\n",
    "cps_name, cps_data = [], []\n",
    "for item in df_filtered[df_filtered['Country'] == 'USA']['Abstract']:\n",
    "    globals()['cps{}'.format(i)] = item.lower()\n",
    "    cps_name.append('cps{}'.format(i))\n",
    "    cps_data.append(globals()['cps{}'.format(i)])\n",
    "    i += 1"
   ]
  },
  {
   "cell_type": "code",
   "execution_count": 401,
   "metadata": {},
   "outputs": [],
   "source": [
    "#Corpus별 표제어(lemmatization) 추출\n",
    "tokenizer = RegexpTokenizer('\\w+')\n",
    "p_stemmer = PorterStemmer()\n",
    "texts = []\n",
    "for item in cps_data:\n",
    "    #corpus 속 숫자 제거\n",
    "    temp = re.sub('[0-9]+','',item)\n",
    "    tokens = tokenizer.tokenize(temp)\n",
    "    #1글자로 이루어진 단어 제거\n",
    "    tokens_overone = [word for word in tokens if (len(word) > 1)]\n",
    "    #stopword 제거\n",
    "    stopped_tokens = [i for i in tokens_overone if not i in stword]    \n",
    "    # ing형 제거\n",
    "    noning_tokens = [word for word in stopped_tokens if (re.findall('ing$', word) == [])]\n",
    "    # ly형 제거\n",
    "    nonly_tokens = [word for word in noning_tokens if (re.findall('ly$', word) == [])]\n",
    "    #각 단어 표제화\n",
    "    lemmatized_words = [wnl.lemmatize(i) for i in nonly_tokens]\n",
    "    texts.append(lemmatized_words)\n",
    "\n",
    "frequency = {}\n",
    "for corpus in texts:\n",
    "    for word in corpus:\n",
    "        if word in frequency.keys():\n",
    "            frequency[word] +=1\n",
    "        else:\n",
    "            frequency[word] = 1\n",
    "texts_filtered = [ [token for token in text if (1 < frequency[token]) ] for text in texts ]\n",
    "\n",
    "#표제화된 단어들을 이용하여 document-term 테이블 생성\n",
    "dictionary = Dictionary(texts_filtered)\n",
    "docfreq = dictionary.dfs\n",
    "doc_term_matrix = [dictionary.doc2bow(i) for i in texts]"
   ]
  },
  {
   "cell_type": "code",
   "execution_count": 402,
   "metadata": {
    "scrolled": true
   },
   "outputs": [
    {
     "name": "stdout",
     "output_type": "stream",
     "text": [
      "6632\n"
     ]
    },
    {
     "data": {
      "text/plain": [
       "Text(0, 0.5, 'Frequency')"
      ]
     },
     "execution_count": 402,
     "metadata": {},
     "output_type": "execute_result"
    },
    {
     "data": {
      "image/png": "[encoded data removed]",
      "text/plain": [
       "<Figure size 432x288 with 1 Axes>"
      ]
     },
     "metadata": {
      "needs_background": "light"
     },
     "output_type": "display_data"
    }
   ],
   "source": [
    "#Cheking the freqeuency distribution with all words.\n",
    "term_dic = {}\n",
    "for texts in doc_term_matrix:\n",
    "    for item in texts:\n",
    "        if item[0] in term_dic.keys():\n",
    "            term_dic[item[0]] += item[1]\n",
    "        else:\n",
    "            term_dic[item[0]] = 1\n",
    "term_dic_sorted = sorted(term_dic.items(), key = operator.itemgetter(1))\n",
    "x , y = [] ,[]\n",
    "for i in range(len(term_dic_sorted)):\n",
    "    y.append(term_dic_sorted[i][1])\n",
    "    x.append(i)\n",
    "print(len(term_dic_sorted))\n",
    "plt.plot(x,y, '.')\n",
    "plt.title('Frequency Distribution')\n",
    "plt.xlabel('Words')\n",
    "plt.ylabel('Frequency')"
   ]
  },
  {
   "cell_type": "code",
   "execution_count": 403,
   "metadata": {},
   "outputs": [
    {
     "name": "stdout",
     "output_type": "stream",
     "text": [
      "data 3774\n",
      "patient 2185\n",
      "healthcare 2180\n",
      "model 1981\n",
      "health 1426\n",
      "system 1174\n",
      "machine 1148\n",
      "method 1048\n",
      "based 975\n",
      "study 900\n",
      "care 892\n",
      "result 888\n",
      "clinical 849\n",
      "ai 826\n",
      "medical 772\n",
      "big 761\n",
      "risk 728\n",
      "approach 714\n",
      "information 677\n",
      "research 673\n",
      "network 649\n",
      "application 646\n",
      "disease 636\n",
      "algorithm 632\n",
      "time 621\n",
      "prediction 558\n",
      "analysis 541\n",
      "paper 539\n",
      "technology 506\n",
      "performance 504\n"
     ]
    }
   ],
   "source": [
    "for item in sorted(term_dic.items(), key = operator.itemgetter(1), reverse = True)[0:30]:\n",
    "    print(dictionary[item[0]], item[1])"
   ]
  },
  {
   "cell_type": "code",
   "execution_count": 328,
   "metadata": {},
   "outputs": [
    {
     "data": {
      "image/png": "[encoded data removed]",
      "text/plain": [
       "<Figure size 432x288 with 1 Axes>"
      ]
     },
     "metadata": {
      "needs_background": "light"
     },
     "output_type": "display_data"
    }
   ],
   "source": [
    "coherence_score(1000)"
   ]
  },
  {
   "cell_type": "code",
   "execution_count": 408,
   "metadata": {},
   "outputs": [],
   "source": [
    "#Corpus별 표제어(lemmatization) 추출\n",
    "tokenizer = RegexpTokenizer('\\w+')\n",
    "p_stemmer = PorterStemmer()\n",
    "texts = []\n",
    "for item in cps_data:\n",
    "    #corpus 속 숫자 제거\n",
    "    temp = re.sub('[0-9]+','',item)\n",
    "    tokens = tokenizer.tokenize(temp)\n",
    "    #1글자로 이루어진 단어 제거\n",
    "    tokens_overone = [word for word in tokens if (len(word) > 1)]\n",
    "    #stopword 제거\n",
    "    stopped_tokens = [i for i in tokens_overone if not i in stword]    \n",
    "    # ing형 제거\n",
    "    noning_tokens = [word for word in stopped_tokens if (re.findall('ing$', word) == [])]\n",
    "    # ly형 제거\n",
    "    nonly_tokens = [word for word in noning_tokens if (re.findall('ly$', word) == [])]\n",
    "    #각 단어 표제화\n",
    "    lemmatized_words = [wnl.lemmatize(i) for i in nonly_tokens]\n",
    "    texts.append(lemmatized_words)\n",
    "\n",
    "limit = 1000\n",
    "num_tps = 5\n",
    "frequency = {}\n",
    "for corpus in texts:\n",
    "    for word in corpus:\n",
    "        if word in frequency.keys():\n",
    "            frequency[word] +=1\n",
    "        else:\n",
    "            frequency[word] = 1\n",
    "texts_filtered = [ [token for token in text if (1 < frequency[token]<limit)] for text in texts ]\n",
    "\n",
    "#표제화된 단어들을 이용하여 document-term 테이블 생성\n",
    "dictionary = Dictionary(texts_filtered)\n",
    "docfreq = dictionary.dfs\n",
    "doc_term_matrix = [dictionary.doc2bow(i) for i in texts]\n",
    "\n",
    "ldaModel = models.ldamodel.LdaModel(corpus=doc_term_matrix, num_topics = num_tps, id2word = dictionary, \n",
    "                                    passes=15, alpha = 'symmetric', iterations = 10)\n",
    "ldaTopics = ldaModel.print_topics(num_topics = num_tps, num_words = 15)\n",
    "keywords_usa = []\n",
    "for i in range(len(ldaTopics)):\n",
    "    string = ''\n",
    "    for item in ldaTopics[i][1].split('+'):\n",
    "        string += (item.split('*')[1].replace(r'\"','') + '')\n",
    "    keywords_usa.append(['Topic ' + str(ldaTopics[i][0])] + [string.replace(' ',', ')])\n",
    "topic_ratio_usa = []\n",
    "for i in range(len(doc_term_matrix)):\n",
    "    topic_ratio_usa.append(ldaModel[doc_term_matrix[i]])"
   ]
  },
  {
   "cell_type": "code",
   "execution_count": 409,
   "metadata": {},
   "outputs": [
    {
     "data": {
      "text/plain": [
       "[['Topic 0',\n",
       "  'clinical, medical, based, algorithm, information, approach, result, record, decision, knowledge, research, large, performance, risk, electronic'],\n",
       " ['Topic 1',\n",
       "  'risk, prediction, result, hospital, study, care, network, accuracy, feature, neural, cost, performance, disease, predict, time'],\n",
       " ['Topic 2',\n",
       "  'analytics, technology, ai, research, care, social, intelligence, cost, information, practice, artificial, new, paper, analysis, industry'],\n",
       " ['Topic 3',\n",
       "  'ai, care, study, research, community, provider, student, technology, service, result, experience, medical, review, population, based'],\n",
       " ['Topic 4',\n",
       "  'application, based, network, device, paper, human, deep, sensor, time, user, proposed, disease, framework, algorithm, approach']]"
      ]
     },
     "execution_count": 409,
     "metadata": {},
     "output_type": "execute_result"
    }
   ],
   "source": [
    "keywords_usa"
   ]
  },
  {
   "cell_type": "markdown",
   "metadata": {},
   "source": [
    "## China Topic Modeling"
   ]
  },
  {
   "cell_type": "code",
   "execution_count": 410,
   "metadata": {},
   "outputs": [],
   "source": [
    "i = 0\n",
    "cps_name, cps_data = [], []\n",
    "for item in df_filtered[df_filtered['Country'] == 'China']['Abstract']:\n",
    "    globals()['cps{}'.format(i)] = item.lower()\n",
    "    cps_name.append('cps{}'.format(i))\n",
    "    cps_data.append(globals()['cps{}'.format(i)])\n",
    "    i += 1"
   ]
  },
  {
   "cell_type": "code",
   "execution_count": 411,
   "metadata": {},
   "outputs": [],
   "source": [
    "#Corpus별 표제어(lemmatization) 추출\n",
    "tokenizer = RegexpTokenizer('\\w+')\n",
    "p_stemmer = PorterStemmer()\n",
    "texts = []\n",
    "for item in cps_data:\n",
    "    #corpus 속 숫자 제거\n",
    "    temp = re.sub('[0-9]+','',item)\n",
    "    tokens = tokenizer.tokenize(temp)\n",
    "    #1글자로 이루어진 단어 제거\n",
    "    tokens_overone = [word for word in tokens if (len(word) > 1)]\n",
    "    #stopword 제거\n",
    "    stopped_tokens = [i for i in tokens_overone if not i in stword]    \n",
    "    # ing형 제거\n",
    "    noning_tokens = [word for word in stopped_tokens if (re.findall('ing$', word) == [])]\n",
    "    # ly형 제거\n",
    "    nonly_tokens = [word for word in noning_tokens if (re.findall('ly$', word) == [])]\n",
    "    #각 단어 표제화\n",
    "    lemmatized_words = [wnl.lemmatize(i) for i in nonly_tokens]\n",
    "    texts.append(lemmatized_words)\n",
    "\n",
    "frequency = {}\n",
    "for corpus in texts:\n",
    "    for word in corpus:\n",
    "        if word in frequency.keys():\n",
    "            frequency[word] +=1\n",
    "        else:\n",
    "            frequency[word] = 1\n",
    "texts_filtered = [ [token for token in text if (1 < frequency[token]) ] for text in texts ]\n",
    "\n",
    "#표제화된 단어들을 이용하여 document-term 테이블 생성\n",
    "dictionary = Dictionary(texts_filtered)\n",
    "docfreq = dictionary.dfs\n",
    "doc_term_matrix = [dictionary.doc2bow(i) for i in texts]"
   ]
  },
  {
   "cell_type": "code",
   "execution_count": 336,
   "metadata": {
    "scrolled": true
   },
   "outputs": [
    {
     "name": "stdout",
     "output_type": "stream",
     "text": [
      "3550\n"
     ]
    },
    {
     "data": {
      "text/plain": [
       "Text(0, 0.5, 'Frequency')"
      ]
     },
     "execution_count": 336,
     "metadata": {},
     "output_type": "execute_result"
    },
    {
     "data": {
      "image/png": "[encoded data removed]",
      "text/plain": [
       "<Figure size 432x288 with 1 Axes>"
      ]
     },
     "metadata": {
      "needs_background": "light"
     },
     "output_type": "display_data"
    }
   ],
   "source": [
    "#Cheking the freqeuency distribution with all words.\n",
    "term_dic = {}\n",
    "for texts in doc_term_matrix:\n",
    "    for item in texts:\n",
    "        if item[0] in term_dic.keys():\n",
    "            term_dic[item[0]] += item[1]\n",
    "        else:\n",
    "            term_dic[item[0]] = 1\n",
    "term_dic_sorted = sorted(term_dic.items(), key = operator.itemgetter(1))\n",
    "x , y = [] ,[]\n",
    "for i in range(len(term_dic_sorted)):\n",
    "    y.append(term_dic_sorted[i][1])\n",
    "    x.append(i)\n",
    "print(len(term_dic_sorted))\n",
    "plt.plot(x,y, '.')\n",
    "plt.title('Frequency Distribution')\n",
    "plt.xlabel('Words')\n",
    "plt.ylabel('Frequency')"
   ]
  },
  {
   "cell_type": "code",
   "execution_count": 337,
   "metadata": {},
   "outputs": [
    {
     "name": "stdout",
     "output_type": "stream",
     "text": [
      "data 1366\n",
      "healthcare 851\n",
      "model 548\n",
      "medical 541\n",
      "system 515\n",
      "method 510\n",
      "based 499\n",
      "patient 430\n",
      "network 407\n",
      "big 392\n",
      "health 392\n",
      "proposed 378\n",
      "result 344\n",
      "information 327\n",
      "feature 308\n",
      "paper 287\n",
      "disease 277\n",
      "study 265\n",
      "analysis 260\n",
      "application 253\n",
      "service 249\n",
      "performance 243\n",
      "algorithm 243\n",
      "deep 236\n",
      "time 236\n",
      "technology 226\n",
      "used 225\n",
      "machine 216\n",
      "neural 212\n",
      "accuracy 205\n"
     ]
    }
   ],
   "source": [
    "for item in sorted(term_dic.items(), key = operator.itemgetter(1), reverse = True)[0:30]:\n",
    "    print(dictionary[item[0]], item[1])"
   ]
  },
  {
   "cell_type": "code",
   "execution_count": 338,
   "metadata": {},
   "outputs": [
    {
     "data": {
      "image/png": "[encoded data removed]",
      "text/plain": [
       "<Figure size 432x288 with 1 Axes>"
      ]
     },
     "metadata": {
      "needs_background": "light"
     },
     "output_type": "display_data"
    }
   ],
   "source": [
    "coherence_score(500)"
   ]
  },
  {
   "cell_type": "code",
   "execution_count": 418,
   "metadata": {},
   "outputs": [],
   "source": [
    "#Corpus별 표제어(lemmatization) 추출\n",
    "tokenizer = RegexpTokenizer('\\w+')\n",
    "p_stemmer = PorterStemmer()\n",
    "texts = []\n",
    "for item in cps_data:\n",
    "    #corpus 속 숫자 제거\n",
    "    temp = re.sub('[0-9]+','',item)\n",
    "    tokens = tokenizer.tokenize(temp)\n",
    "    #1글자로 이루어진 단어 제거\n",
    "    tokens_overone = [word for word in tokens if (len(word) > 1)]\n",
    "    #stopword 제거\n",
    "    stopped_tokens = [i for i in tokens_overone if not i in stword]    \n",
    "    # ing형 제거\n",
    "    noning_tokens = [word for word in stopped_tokens if (re.findall('ing$', word) == [])]\n",
    "    # ly형 제거\n",
    "    nonly_tokens = [word for word in noning_tokens if (re.findall('ly$', word) == [])]\n",
    "    #각 단어 표제화\n",
    "    lemmatized_words = [wnl.lemmatize(i) for i in nonly_tokens]\n",
    "    texts.append(lemmatized_words)\n",
    "\n",
    "limit = 500\n",
    "num_tps = 5\n",
    "frequency = {}\n",
    "for corpus in texts:\n",
    "    for word in corpus:\n",
    "        if word in frequency.keys():\n",
    "            frequency[word] +=1\n",
    "        else:\n",
    "            frequency[word] = 1\n",
    "texts_filtered = [ [token for token in text if (1 < frequency[token]<limit)] for text in texts ]\n",
    "\n",
    "#표제화된 단어들을 이용하여 document-term 테이블 생성\n",
    "dictionary = Dictionary(texts_filtered)\n",
    "docfreq = dictionary.dfs\n",
    "doc_term_matrix = [dictionary.doc2bow(i) for i in texts]\n",
    "\n",
    "ldaModel = models.ldamodel.LdaModel(corpus=doc_term_matrix, num_topics = num_tps, id2word = dictionary, \n",
    "                                    passes=15, alpha = 'symmetric', iterations = 10)\n",
    "ldaTopics = ldaModel.print_topics(num_topics = num_tps, num_words = 15)\n",
    "keywords_china = []\n",
    "for i in range(len(ldaTopics)):\n",
    "    string = ''\n",
    "    for item in ldaTopics[i][1].split('+'):\n",
    "        string += (item.split('*')[1].replace(r'\"','') + '')\n",
    "    keywords_china.append(['Topic ' + str(ldaTopics[i][0])] + [string.replace(' ',', ')])\n",
    "topic_ratio_china = []\n",
    "for i in range(len(doc_term_matrix)):\n",
    "    topic_ratio_china.append(ldaModel[doc_term_matrix[i]])"
   ]
  },
  {
   "cell_type": "code",
   "execution_count": 419,
   "metadata": {},
   "outputs": [
    {
     "data": {
      "text/plain": [
       "[['Topic 0',\n",
       "  'feature, classification, disease, algorithm, proposed, accuracy, machine, performance, patient, result, diagnosis, image, network, neural, prediction'],\n",
       " ['Topic 1',\n",
       "  'patient, ai, health, research, analysis, study, service, china, information, development, clinical, factor, technology, disease, paper'],\n",
       " ['Topic 2',\n",
       "  'patient, information, study, result, network, prediction, approach, group, disease, technology, smart, process, proposed, mortality, time'],\n",
       " ['Topic 3',\n",
       "  'proposed, feature, activity, network, time, recognition, result, accuracy, performance, neural, ecg, approach, real, algorithm, deep'],\n",
       " ['Topic 4',\n",
       "  'health, privacy, cloud, network, paper, service, technology, iot, application, scheme, user, security, smart, deep, proposed']]"
      ]
     },
     "execution_count": 419,
     "metadata": {},
     "output_type": "execute_result"
    }
   ],
   "source": [
    "keywords_china"
   ]
  },
  {
   "cell_type": "code",
   "execution_count": 420,
   "metadata": {},
   "outputs": [],
   "source": [
    "data = []\n",
    "for topic in keywords_china:\n",
    "    temp = []\n",
    "    temp += ([topic[0]] + [word.replace(\"'\",'').replace(' ','') for word in topic[1].split(',')])\n",
    "    data.append(temp)\n",
    "pd.DataFrame(data).to_excel(r'C:\\Users\\Yunseok Choi\\Google 드라이브\\기술경영대학원\\STEPI\\healthcare_temp.xlsx')"
   ]
  },
  {
   "cell_type": "code",
   "execution_count": 425,
   "metadata": {},
   "outputs": [],
   "source": [
    "keywords_china_byword = []\n",
    "for topic in keywords_china:\n",
    "    for words in topic:\n",
    "        for word in words.split(','):\n",
    "            keywords_china_byword.append(word.replace(' ',''))"
   ]
  },
  {
   "cell_type": "code",
   "execution_count": 427,
   "metadata": {},
   "outputs": [],
   "source": [
    "keywords_usa_byword = []\n",
    "for topic in keywords_usa:\n",
    "    for words in topic:\n",
    "        for word in words.split(','):\n",
    "            keywords_usa_byword.append(word.replace(' ',''))"
   ]
  },
  {
   "cell_type": "code",
   "execution_count": 428,
   "metadata": {},
   "outputs": [],
   "source": [
    "keywords_byword = []\n",
    "for topic in keywords:\n",
    "    for words in topic:\n",
    "        for word in words.split(','):\n",
    "            keywords_byword.append(word.replace(' ',''))"
   ]
  },
  {
   "cell_type": "code",
   "execution_count": 430,
   "metadata": {},
   "outputs": [
    {
     "name": "stdout",
     "output_type": "stream",
     "text": [
      "medical\n",
      "based\n",
      "result\n",
      "record\n",
      "knowledge\n",
      "large\n",
      "electronic\n",
      "result\n",
      "study\n",
      "predict\n",
      "social\n",
      "new\n",
      "paper\n",
      "industry\n",
      "study\n",
      "provider\n",
      "result\n",
      "medical\n",
      "population\n",
      "based\n",
      "based\n",
      "paper\n",
      "human\n"
     ]
    }
   ],
   "source": [
    "for word in keywords_usa_byword:\n",
    "    if word not in keywords_byword:\n",
    "        print(word)"
   ]
  },
  {
   "cell_type": "code",
   "execution_count": 429,
   "metadata": {},
   "outputs": [
    {
     "name": "stdout",
     "output_type": "stream",
     "text": [
      "machine\n",
      "patient\n",
      "result\n",
      "diagnosis\n",
      "patient\n",
      "health\n",
      "study\n",
      "china\n",
      "paper\n",
      "patient\n",
      "study\n",
      "result\n",
      "process\n",
      "mortality\n",
      "recognition\n",
      "result\n",
      "ecg\n",
      "real\n",
      "health\n",
      "paper\n",
      "scheme\n"
     ]
    }
   ],
   "source": [
    "for word in keywords_china_byword:\n",
    "    if word not in keywords_byword:\n",
    "        print(word)"
   ]
  },
  {
   "cell_type": "markdown",
   "metadata": {},
   "source": [
    "## Backward Citation Setup"
   ]
  },
  {
   "cell_type": "code",
   "execution_count": 462,
   "metadata": {},
   "outputs": [],
   "source": [
    "df_back = pd.read_excel(r'C:\\Users\\Yunseok Choi\\Google 드라이브\\기술경영대학원\\STEPI\\AI_Healthcare_backwardcitation.xlsx')\n",
    "df_back.dropna(subset = ['Abstract','Publication Year'], inplace = True, axis = 0)"
   ]
  },
  {
   "cell_type": "code",
   "execution_count": 488,
   "metadata": {},
   "outputs": [
    {
     "data": {
      "text/plain": [
       "Index(['index', 'Publication Type', 'Authors', 'Book Authors', 'Book Editors',\n",
       "       'Book Group Authors', 'Author Full Names', 'Book Author Full Names',\n",
       "       'Group Authors', 'Article Title', 'Source Title', 'Book Series Title',\n",
       "       'Book Series Subtitle', 'Language', 'Document Type', 'Conference Title',\n",
       "       'Conference Date', 'Conference Location', 'Conference Sponsor',\n",
       "       'Conference Host', 'Author Keywords', 'Keywords Plus', 'Abstract',\n",
       "       'Addresses', 'Reprint Addresses', 'Email Addresses', 'Researcher Ids',\n",
       "       'ORCIDs', 'Funding Orgs', 'Funding Text', 'Cited References',\n",
       "       'Cited Reference Count', 'Times Cited, WoS Core',\n",
       "       'Times Cited, All Databases', '180 Day Usage Count',\n",
       "       'Since 2013 Usage Count', 'Publisher', 'Publisher City',\n",
       "       'Publisher Address', 'ISSN', 'eISSN', 'ISBN', 'Journal Abbreviation',\n",
       "       'Journal ISO Abbreviation', 'Publication Date', 'Publication Year',\n",
       "       'Volume', 'Issue', 'Part Number', 'Supplement', 'Special Issue',\n",
       "       'Meeting Abstract', 'Start Page', 'End Page', 'Article Number', 'DOI',\n",
       "       'Book DOI', 'Early Access Date', 'Number of Pages', 'WoS Categories',\n",
       "       'Research Areas', 'IDS Number', 'UT (Unique WOS ID)', 'Pubmed Id',\n",
       "       'Open Access Designations', 'Highly Cited Status', 'Hot Paper Status',\n",
       "       'Date of Export', 'Country'],\n",
       "      dtype='object')"
      ]
     },
     "execution_count": 488,
     "metadata": {},
     "output_type": "execute_result"
    }
   ],
   "source": [
    "df_filtered.columns"
   ]
  },
  {
   "cell_type": "code",
   "execution_count": 466,
   "metadata": {},
   "outputs": [],
   "source": [
    "df_back.reset_index(inplace = True)"
   ]
  },
  {
   "cell_type": "code",
   "execution_count": 495,
   "metadata": {},
   "outputs": [],
   "source": [
    "wos_usa = []\n",
    "for item in usa_index:\n",
    "    wos_usa.append(df_filtered.iloc[item]['UT (Unique WOS ID)'])"
   ]
  },
  {
   "cell_type": "code",
   "execution_count": 496,
   "metadata": {},
   "outputs": [],
   "source": [
    "wos_china = []\n",
    "for item in china_index:\n",
    "    wos_china.append(df_filtered.iloc[item]['UT (Unique WOS ID)'])"
   ]
  },
  {
   "cell_type": "code",
   "execution_count": 546,
   "metadata": {},
   "outputs": [],
   "source": [
    "cps_data_china, cps_data_usa = [], []\n",
    "back_index_china , back_index_usa = [], []\n",
    "for i in range(df_back.shape[0]):\n",
    "    if df_back['CIted By'][i] in wos_china:\n",
    "        cps_data_china.append(df_back['Abstract'][i].lower())\n",
    "        back_index_china.append(i)\n",
    "    elif df_back['CIted By'][i] in wos_usa:\n",
    "        cps_data_usa.append(df_back['Abstract'][i].lower())\n",
    "        back_index_usa.append(i)"
   ]
  },
  {
   "cell_type": "code",
   "execution_count": 518,
   "metadata": {},
   "outputs": [
    {
     "data": {
      "text/plain": [
       "25300"
      ]
     },
     "execution_count": 518,
     "metadata": {},
     "output_type": "execute_result"
    }
   ],
   "source": [
    "len(cps_data_usa)"
   ]
  },
  {
   "cell_type": "code",
   "execution_count": 519,
   "metadata": {},
   "outputs": [
    {
     "data": {
      "text/plain": [
       "9969"
      ]
     },
     "execution_count": 519,
     "metadata": {},
     "output_type": "execute_result"
    }
   ],
   "source": [
    "len(cps_data_china)"
   ]
  },
  {
   "cell_type": "markdown",
   "metadata": {},
   "source": [
    "## Backward Citation"
   ]
  },
  {
   "cell_type": "code",
   "execution_count": 540,
   "metadata": {},
   "outputs": [],
   "source": [
    "cps_data_back = []\n",
    "for item in df_back['Abstract']:\n",
    "    cps_data_back.append(item.lower())"
   ]
  },
  {
   "cell_type": "code",
   "execution_count": 541,
   "metadata": {},
   "outputs": [],
   "source": [
    "#Corpus별 표제어(lemmatization) 추출\n",
    "tokenizer = RegexpTokenizer('\\w+')\n",
    "p_stemmer = PorterStemmer()\n",
    "texts = []\n",
    "for item in cps_data_back:\n",
    "    #corpus 속 숫자 제거\n",
    "    temp = re.sub('[0-9]+','',item)\n",
    "    tokens = tokenizer.tokenize(temp)\n",
    "    #1글자로 이루어진 단어 제거\n",
    "    tokens_overone = [word for word in tokens if len(word) > 1]\n",
    "    #stopword 제거\n",
    "    stopped_tokens = [i for i in tokens_overone if not i in stword]    \n",
    "    # ing형 제거\n",
    "    noning_tokens = [word for word in stopped_tokens if (re.findall('ing$', word) == [])]\n",
    "    # ly형 제거\n",
    "    nonly_tokens = [word for word in noning_tokens if (re.findall('ly$', word) == [])]\n",
    "    #각 단어 표제화\n",
    "    lemmatized_words = [wnl.lemmatize(i) for i in nonly_tokens]\n",
    "    texts.append(lemmatized_words)\n",
    "\n",
    "frequency = {}\n",
    "for corpus in texts:\n",
    "    for word in corpus:\n",
    "        if word in frequency.keys():\n",
    "            frequency[word] +=1\n",
    "        else:\n",
    "            frequency[word] = 1\n",
    "texts_filtered = [ [token for token in text if (1 < frequency[token]) ] for text in texts ]\n",
    "\n",
    "#표제화된 단어들을 이용하여 document-term 테이블 생성\n",
    "dictionary = Dictionary(texts_filtered)\n",
    "docfreq = dictionary.dfs\n",
    "doc_term_matrix = [dictionary.doc2bow(i) for i in texts]"
   ]
  },
  {
   "cell_type": "code",
   "execution_count": 542,
   "metadata": {
    "scrolled": true
   },
   "outputs": [
    {
     "name": "stdout",
     "output_type": "stream",
     "text": [
      "66168\n"
     ]
    },
    {
     "data": {
      "text/plain": [
       "Text(0, 0.5, 'Frequency')"
      ]
     },
     "execution_count": 542,
     "metadata": {},
     "output_type": "execute_result"
    },
    {
     "data": {
      "image/png": "[encoded data removed]",
      "text/plain": [
       "<Figure size 432x288 with 1 Axes>"
      ]
     },
     "metadata": {
      "needs_background": "light"
     },
     "output_type": "display_data"
    }
   ],
   "source": [
    "#Cheking the freqeuency distribution with all words.\n",
    "term_dic = {}\n",
    "for texts in doc_term_matrix:\n",
    "    for item in texts:\n",
    "        if item[0] in term_dic.keys():\n",
    "            term_dic[item[0]] += item[1]\n",
    "        else:\n",
    "            term_dic[item[0]] = 1\n",
    "term_dic_sorted = sorted(term_dic.items(), key = operator.itemgetter(1))\n",
    "x , y = [] ,[]\n",
    "for i in range(len(term_dic_sorted)):\n",
    "    y.append(term_dic_sorted[i][1])\n",
    "    x.append(i)\n",
    "print(len(term_dic_sorted))\n",
    "plt.plot(x,y, '.')\n",
    "plt.title('Frequency Distribution')\n",
    "plt.xlabel('Words')\n",
    "plt.ylabel('Frequency')"
   ]
  },
  {
   "cell_type": "code",
   "execution_count": 543,
   "metadata": {},
   "outputs": [
    {
     "name": "stdout",
     "output_type": "stream",
     "text": [
      "data 191812\n",
      "patient 147684\n",
      "method 106289\n",
      "model 105538\n",
      "study 99820\n",
      "system 94060\n",
      "based 93238\n",
      "result 90062\n",
      "health 86414\n",
      "network 62254\n",
      "analysis 60497\n",
      "care 58231\n",
      "disease 56468\n",
      "time 56061\n",
      "algorithm 55492\n",
      "clinical 54133\n",
      "paper 52262\n",
      "feature 51844\n",
      "risk 51482\n",
      "approach 50710\n",
      "information 49741\n",
      "research 48523\n",
      "performance 48060\n",
      "proposed 46236\n",
      "medical 44016\n",
      "image 42787\n",
      "application 40638\n",
      "different 38688\n",
      "classification 38502\n",
      "new 36824\n"
     ]
    }
   ],
   "source": [
    "for item in sorted(term_dic.items(), key = operator.itemgetter(1), reverse = True)[0:30]:\n",
    "    print(dictionary[item[0]], item[1])"
   ]
  },
  {
   "cell_type": "code",
   "execution_count": 567,
   "metadata": {},
   "outputs": [
    {
     "data": {
      "image/png": "[encoded data removed]",
      "text/plain": [
       "<Figure size 432x288 with 1 Axes>"
      ]
     },
     "metadata": {
      "needs_background": "light"
     },
     "output_type": "display_data"
    }
   ],
   "source": [
    "coherence_score(75000, passes = 5, cps_data = cps_data_back)"
   ]
  },
  {
   "cell_type": "code",
   "execution_count": 554,
   "metadata": {},
   "outputs": [],
   "source": [
    "#Corpus별 표제어(lemmatization) 추출\n",
    "tokenizer = RegexpTokenizer('\\w+')\n",
    "p_stemmer = PorterStemmer()\n",
    "texts = []\n",
    "for item in cps_data:\n",
    "    #corpus 속 숫자 제거\n",
    "    temp = re.sub('[0-9]+','',item)\n",
    "    tokens = tokenizer.tokenize(temp)\n",
    "    #1글자로 이루어진 단어 제거\n",
    "    tokens_overone = [word for word in tokens if len(word) > 1]\n",
    "    #stopword 제거\n",
    "    stopped_tokens = [i for i in tokens_overone if not i in stword]    \n",
    "    # ing형 제거\n",
    "    noning_tokens = [word for word in stopped_tokens if (re.findall('ing$', word) == [])]\n",
    "    # ly형 제거\n",
    "    nonly_tokens = [word for word in noning_tokens if (re.findall('ly$', word) == [])]\n",
    "    #각 단어 표제화\n",
    "    lemmatized_words = [wnl.lemmatize(i) for i in nonly_tokens]\n",
    "    #filtered_words = [word for word in lemmatized_words if not word in filter_words]\n",
    "    texts.append(lemmatized_words)\n",
    "\n",
    "\n",
    "limit = 75000\n",
    "num_tps = 5\n",
    "frequency = {}\n",
    "for corpus in texts:\n",
    "    for word in corpus:\n",
    "        if word in frequency.keys():\n",
    "            frequency[word] +=1\n",
    "        else:\n",
    "            frequency[word] = 1\n",
    "texts_filtered = [ [token for token in text if (1 < frequency[token]<limit)] for text in texts ]\n",
    "\n",
    "#표제화된 단어들을 이용하여 document-term 테이블 생성\n",
    "dictionary = Dictionary(texts_filtered)\n",
    "docfreq = dictionary.dfs\n",
    "doc_term_matrix = [dictionary.doc2bow(i) for i in texts]\n",
    "\n",
    "ldaModel = models.ldamodel.LdaModel(corpus=doc_term_matrix, num_topics = num_tps, id2word = dictionary, \n",
    "                                    passes=15, alpha = 'symmetric', iterations = 10)\n",
    "ldaTopics = ldaModel.print_topics(num_topics = num_tps, num_words = 15)\n",
    "keywords = []\n",
    "for i in range(len(ldaTopics)):\n",
    "    string = ''\n",
    "    for item in ldaTopics[i][1].split('+'):\n",
    "        string += (item.split('*')[1].replace(r'\"','') + '')\n",
    "    keywords.append(['Topic ' + str(ldaTopics[i][0])] + [string.replace(' ',', ')])\n",
    "topic_ratio = []\n",
    "for i in range(len(doc_term_matrix)):\n",
    "    topic_ratio.append(ldaModel[doc_term_matrix[i]])"
   ]
  },
  {
   "cell_type": "code",
   "execution_count": 555,
   "metadata": {},
   "outputs": [
    {
     "data": {
      "text/plain": [
       "[['Topic 0',\n",
       "  'application, technology, healthcare, research, paper, user, ai, information, sensor, device, iot, challenge, network, service, new'],\n",
       " ['Topic 1',\n",
       "  'algorithm, feature, network, classification, image, proposed, deep, performance, machine, accuracy, approach, neural, set, prediction, technique'],\n",
       " ['Topic 2',\n",
       "  'signal, image, cell, detection, sensitivity, analysis, ecg, ct, disease, subject, brain, human, cancer, specificity, activity'],\n",
       " ['Topic 3',\n",
       "  'care, clinical, review, research, intervention, covid, quality, medical, practice, social, analysis, effect, treatment, outcome, evidence'],\n",
       " ['Topic 4',\n",
       "  'risk, disease, cancer, covid, hospital, age, clinical, year, mortality, outcome, score, rate, day, associated, conclusion']]"
      ]
     },
     "execution_count": 555,
     "metadata": {},
     "output_type": "execute_result"
    }
   ],
   "source": [
    "keywords"
   ]
  },
  {
   "cell_type": "code",
   "execution_count": 566,
   "metadata": {},
   "outputs": [
    {
     "data": {
      "text/plain": [
       "{0: 0.18257322300564158,\n",
       " 1: 0.22816412332670197,\n",
       " 2: 0.13315925372359547,\n",
       " 3: 0.24408236625254626,\n",
       " 4: 0.20691300615060912,\n",
       " 5: 0.0,\n",
       " 6: 0.0,\n",
       " 7: 0.0,\n",
       " 8: 0.0,\n",
       " 9: 0.0,\n",
       " 10: 0.0}"
      ]
     },
     "execution_count": 566,
     "metadata": {},
     "output_type": "execute_result"
    }
   ],
   "source": [
    "topic_ratio_usa = {0:0,1:0,2:0,3:0,4:0,5:0,6:0,7:0,8:0,9:0,10:0}\n",
    "for index in back_index_usa:\n",
    "    for item in topic_ratio[index]:\n",
    "        topic_ratio_usa[item[0]] += item[1]\n",
    "for index in topic_ratio_usa.keys():\n",
    "    topic_ratio_usa[index] = topic_ratio_usa[index]/len(back_index_usa)\n",
    "topic_ratio_usa"
   ]
  },
  {
   "cell_type": "code",
   "execution_count": 565,
   "metadata": {},
   "outputs": [
    {
     "data": {
      "text/plain": [
       "{0: 0.2910486400647397,\n",
       " 1: 0.30703552342855633,\n",
       " 2: 0.15762504578794775,\n",
       " 3: 0.12871372990849422,\n",
       " 4: 0.10996377768778062,\n",
       " 5: 0.0,\n",
       " 6: 0.0,\n",
       " 7: 0.0,\n",
       " 8: 0.0,\n",
       " 9: 0.0,\n",
       " 10: 0.0}"
      ]
     },
     "execution_count": 565,
     "metadata": {},
     "output_type": "execute_result"
    }
   ],
   "source": [
    "topic_ratio_china = {0:0,1:0,2:0,3:0,4:0,5:0,6:0,7:0,8:0,9:0,10:0}\n",
    "for index in back_index_china:\n",
    "    for item in topic_ratio[index]:\n",
    "        topic_ratio_china[item[0]] += item[1]\n",
    "for index in topic_ratio_china.keys():\n",
    "    topic_ratio_china[index] = topic_ratio_china[index]/len(back_index_china)\n",
    "topic_ratio_china"
   ]
  },
  {
   "cell_type": "markdown",
   "metadata": {},
   "source": [
    "## USA Backward Citation"
   ]
  },
  {
   "cell_type": "code",
   "execution_count": 570,
   "metadata": {},
   "outputs": [],
   "source": [
    "#Corpus별 표제어(lemmatization) 추출\n",
    "tokenizer = RegexpTokenizer('\\w+')\n",
    "p_stemmer = PorterStemmer()\n",
    "texts = []\n",
    "for item in cps_data_usa:\n",
    "    #corpus 속 숫자 제거\n",
    "    temp = re.sub('[0-9]+','',item)\n",
    "    tokens = tokenizer.tokenize(temp)\n",
    "    #1글자로 이루어진 단어 제거\n",
    "    tokens_overone = [word for word in tokens if len(word) > 1]\n",
    "    #stopword 제거\n",
    "    stopped_tokens = [i for i in tokens_overone if not i in stword]    \n",
    "    # ing형 제거\n",
    "    noning_tokens = [word for word in stopped_tokens if (re.findall('ing$', word) == [])]\n",
    "    # ly형 제거\n",
    "    nonly_tokens = [word for word in noning_tokens if (re.findall('ly$', word) == [])]\n",
    "    #각 단어 표제화\n",
    "    lemmatized_words = [wnl.lemmatize(i) for i in nonly_tokens]\n",
    "    texts.append(lemmatized_words)\n",
    "\n",
    "frequency = {}\n",
    "for corpus in texts:\n",
    "    for word in corpus:\n",
    "        if word in frequency.keys():\n",
    "            frequency[word] +=1\n",
    "        else:\n",
    "            frequency[word] = 1\n",
    "texts_filtered = [ [token for token in text if (1 < frequency[token]) ] for text in texts ]\n",
    "\n",
    "#표제화된 단어들을 이용하여 document-term 테이블 생성\n",
    "dictionary = Dictionary(texts_filtered)\n",
    "docfreq = dictionary.dfs\n",
    "doc_term_matrix = [dictionary.doc2bow(i) for i in texts]"
   ]
  },
  {
   "cell_type": "code",
   "execution_count": 571,
   "metadata": {
    "scrolled": true
   },
   "outputs": [
    {
     "name": "stdout",
     "output_type": "stream",
     "text": [
      "28315\n"
     ]
    },
    {
     "data": {
      "text/plain": [
       "Text(0, 0.5, 'Frequency')"
      ]
     },
     "execution_count": 571,
     "metadata": {},
     "output_type": "execute_result"
    },
    {
     "data": {
      "image/png": "[encoded data removed]",
      "text/plain": [
       "<Figure size 432x288 with 1 Axes>"
      ]
     },
     "metadata": {
      "needs_background": "light"
     },
     "output_type": "display_data"
    }
   ],
   "source": [
    "#Cheking the freqeuency distribution with all words.\n",
    "term_dic = {}\n",
    "for texts in doc_term_matrix:\n",
    "    for item in texts:\n",
    "        if item[0] in term_dic.keys():\n",
    "            term_dic[item[0]] += item[1]\n",
    "        else:\n",
    "            term_dic[item[0]] = 1\n",
    "term_dic_sorted = sorted(term_dic.items(), key = operator.itemgetter(1))\n",
    "x , y = [] ,[]\n",
    "for i in range(len(term_dic_sorted)):\n",
    "    y.append(term_dic_sorted[i][1])\n",
    "    x.append(i)\n",
    "print(len(term_dic_sorted))\n",
    "plt.plot(x,y, '.')\n",
    "plt.title('Frequency Distribution')\n",
    "plt.xlabel('Words')\n",
    "plt.ylabel('Frequency')"
   ]
  },
  {
   "cell_type": "code",
   "execution_count": 569,
   "metadata": {},
   "outputs": [
    {
     "name": "stdout",
     "output_type": "stream",
     "text": [
      "project 191812\n",
      "healthier 147684\n",
      "effective 106289\n",
      "large 105538\n",
      "community 99820\n",
      "constitutes 94060\n",
      "build 93238\n",
      "care 90062\n",
      "bronchial 86414\n",
      "country 62254\n",
      "along 60497\n",
      "outcome 58231\n",
      "ireland 56468\n",
      "division 56061\n",
      "sex 55492\n",
      "average 54133\n",
      "suggested 52262\n",
      "reveals 51844\n",
      "nevertheless 51482\n",
      "prick 50710\n",
      "availability 49741\n",
      "people 48523\n",
      "fast 48060\n",
      "circumstance 46236\n",
      "dimension 44016\n",
      "sensitivity 42787\n",
      "knime 40638\n",
      "account 38688\n",
      "varied 38502\n",
      "provide 36824\n"
     ]
    }
   ],
   "source": [
    "for item in sorted(term_dic.items(), key = operator.itemgetter(1), reverse = True)[0:30]:\n",
    "    print(dictionary[item[0]], item[1])"
   ]
  },
  {
   "cell_type": "code",
   "execution_count": 529,
   "metadata": {},
   "outputs": [],
   "source": [
    "#Corpus별 표제어(lemmatization) 추출\n",
    "tokenizer = RegexpTokenizer('\\w+')\n",
    "p_stemmer = PorterStemmer()\n",
    "texts = []\n",
    "for item in cps_data_usa:\n",
    "    #corpus 속 숫자 제거\n",
    "    temp = re.sub('[0-9]+','',item)\n",
    "    tokens = tokenizer.tokenize(temp)\n",
    "    #1글자로 이루어진 단어 제거\n",
    "    tokens_overone = [word for word in tokens if len(word) > 1]\n",
    "    #stopword 제거\n",
    "    stopped_tokens = [i for i in tokens_overone if not i in stword]    \n",
    "    # ing형 제거\n",
    "    noning_tokens = [word for word in stopped_tokens if (re.findall('ing$', word) == [])]\n",
    "    # ly형 제거\n",
    "    nonly_tokens = [word for word in noning_tokens if (re.findall('ly$', word) == [])]\n",
    "    #각 단어 표제화\n",
    "    lemmatized_words = [wnl.lemmatize(i) for i in nonly_tokens]\n",
    "    #filtered_words = [word for word in lemmatized_words if not word in filter_words]\n",
    "    texts.append(lemmatized_words)\n",
    "\n",
    "\n",
    "limit = 10000\n",
    "num_tps = 5\n",
    "frequency = {}\n",
    "for corpus in texts:\n",
    "    for word in corpus:\n",
    "        if word in frequency.keys():\n",
    "            frequency[word] +=1\n",
    "        else:\n",
    "            frequency[word] = 1\n",
    "texts_filtered = [ [token for token in text if (1 < frequency[token]<limit)] for text in texts ]\n",
    "\n",
    "#표제화된 단어들을 이용하여 document-term 테이블 생성\n",
    "dictionary = Dictionary(texts_filtered)\n",
    "docfreq = dictionary.dfs\n",
    "doc_term_matrix = [dictionary.doc2bow(i) for i in texts]\n",
    "\n",
    "ldaModel = models.ldamodel.LdaModel(corpus=doc_term_matrix, num_topics = num_tps, id2word = dictionary, \n",
    "                                    passes=15, alpha = 'symmetric', iterations = 10)\n",
    "ldaTopics = ldaModel.print_topics(num_topics = num_tps, num_words = 15)\n",
    "keywords = []\n",
    "for i in range(len(ldaTopics)):\n",
    "    string = ''\n",
    "    for item in ldaTopics[i][1].split('+'):\n",
    "        string += (item.split('*')[1].replace(r'\"','') + '')\n",
    "    keywords.append(['Topic ' + str(ldaTopics[i][0])] + [string.replace(' ',', ')])\n",
    "topic_ratio = []\n",
    "for i in range(len(doc_term_matrix)):\n",
    "    topic_ratio.append(ldaModel[doc_term_matrix[i]])"
   ]
  },
  {
   "cell_type": "code",
   "execution_count": 531,
   "metadata": {},
   "outputs": [
    {
     "data": {
      "text/plain": [
       "[['Topic 0',\n",
       "  'treatment, group, cost, population, year, among, outcome, intervention, rate, age, associated, woman, cancer, factor, conclusion'],\n",
       " ['Topic 1',\n",
       "  'gene, cell, drug, control, cancer, brain, effect, expression, covid, tissue, response, pd, human, genetic, may'],\n",
       " ['Topic 2',\n",
       "  'hospital, score, outcome, mortality, day, conclusion, readmission, rate, prediction, surgery, predictive, sensitivity, diagnosis, compared, cohort'],\n",
       " ['Topic 3',\n",
       "  'research, information, medical, healthcare, review, technology, application, decision, challenge, user, paper, approach, practice, new, article'],\n",
       " ['Topic 4',\n",
       "  'network, algorithm, feature, image, performance, machine, classification, deep, approach, proposed, accuracy, set, show, paper, neural']]"
      ]
     },
     "execution_count": 531,
     "metadata": {},
     "output_type": "execute_result"
    }
   ],
   "source": [
    "keywords"
   ]
  },
  {
   "cell_type": "markdown",
   "metadata": {},
   "source": [
    "## China Backward Citation"
   ]
  },
  {
   "cell_type": "code",
   "execution_count": 532,
   "metadata": {},
   "outputs": [],
   "source": [
    "#Corpus별 표제어(lemmatization) 추출\n",
    "tokenizer = RegexpTokenizer('\\w+')\n",
    "p_stemmer = PorterStemmer()\n",
    "texts = []\n",
    "for item in cps_data_china:\n",
    "    #corpus 속 숫자 제거\n",
    "    temp = re.sub('[0-9]+','',item)\n",
    "    tokens = tokenizer.tokenize(temp)\n",
    "    #1글자로 이루어진 단어 제거\n",
    "    tokens_overone = [word for word in tokens if len(word) > 1]\n",
    "    #stopword 제거\n",
    "    stopped_tokens = [i for i in tokens_overone if not i in stword]    \n",
    "    # ing형 제거\n",
    "    noning_tokens = [word for word in stopped_tokens if (re.findall('ing$', word) == [])]\n",
    "    # ly형 제거\n",
    "    nonly_tokens = [word for word in noning_tokens if (re.findall('ly$', word) == [])]\n",
    "    #각 단어 표제화\n",
    "    lemmatized_words = [wnl.lemmatize(i) for i in nonly_tokens]\n",
    "    texts.append(lemmatized_words)\n",
    "\n",
    "frequency = {}\n",
    "for corpus in texts:\n",
    "    for word in corpus:\n",
    "        if word in frequency.keys():\n",
    "            frequency[word] +=1\n",
    "        else:\n",
    "            frequency[word] = 1\n",
    "texts_filtered = [ [token for token in text if (1 < frequency[token]) ] for text in texts ]\n",
    "\n",
    "#표제화된 단어들을 이용하여 document-term 테이블 생성\n",
    "dictionary = Dictionary(texts_filtered)\n",
    "docfreq = dictionary.dfs\n",
    "doc_term_matrix = [dictionary.doc2bow(i) for i in texts]"
   ]
  },
  {
   "cell_type": "code",
   "execution_count": 533,
   "metadata": {
    "scrolled": true
   },
   "outputs": [
    {
     "name": "stdout",
     "output_type": "stream",
     "text": [
      "18348\n"
     ]
    },
    {
     "data": {
      "text/plain": [
       "Text(0, 0.5, 'Frequency')"
      ]
     },
     "execution_count": 533,
     "metadata": {},
     "output_type": "execute_result"
    },
    {
     "data": {
      "image/png": "[encoded data removed]",
      "text/plain": [
       "<Figure size 432x288 with 1 Axes>"
      ]
     },
     "metadata": {
      "needs_background": "light"
     },
     "output_type": "display_data"
    }
   ],
   "source": [
    "#Cheking the freqeuency distribution with all words.\n",
    "term_dic = {}\n",
    "for texts in doc_term_matrix:\n",
    "    for item in texts:\n",
    "        if item[0] in term_dic.keys():\n",
    "            term_dic[item[0]] += item[1]\n",
    "        else:\n",
    "            term_dic[item[0]] = 1\n",
    "term_dic_sorted = sorted(term_dic.items(), key = operator.itemgetter(1))\n",
    "x , y = [] ,[]\n",
    "for i in range(len(term_dic_sorted)):\n",
    "    y.append(term_dic_sorted[i][1])\n",
    "    x.append(i)\n",
    "print(len(term_dic_sorted))\n",
    "plt.plot(x,y, '.')\n",
    "plt.title('Frequency Distribution')\n",
    "plt.xlabel('Words')\n",
    "plt.ylabel('Frequency')"
   ]
  },
  {
   "cell_type": "code",
   "execution_count": 534,
   "metadata": {},
   "outputs": [
    {
     "name": "stdout",
     "output_type": "stream",
     "text": [
      "data 14299\n",
      "method 8123\n",
      "patient 7974\n",
      "model 7870\n",
      "based 7471\n",
      "system 7176\n",
      "result 6498\n",
      "network 6323\n",
      "study 5687\n",
      "feature 4917\n",
      "health 4900\n",
      "proposed 4691\n",
      "paper 4623\n",
      "time 4346\n",
      "algorithm 4252\n",
      "analysis 4165\n",
      "information 4142\n",
      "disease 4000\n",
      "performance 3999\n",
      "approach 3917\n",
      "application 3242\n",
      "classification 3117\n",
      "medical 3091\n",
      "risk 3069\n",
      "user 3048\n",
      "image 3014\n",
      "different 2963\n",
      "research 2939\n",
      "clinical 2931\n",
      "problem 2918\n"
     ]
    }
   ],
   "source": [
    "for item in sorted(term_dic.items(), key = operator.itemgetter(1), reverse = True)[0:30]:\n",
    "    print(dictionary[item[0]], item[1])"
   ]
  },
  {
   "cell_type": "code",
   "execution_count": 535,
   "metadata": {},
   "outputs": [],
   "source": [
    "#Corpus별 표제어(lemmatization) 추출\n",
    "tokenizer = RegexpTokenizer('\\w+')\n",
    "p_stemmer = PorterStemmer()\n",
    "texts = []\n",
    "for item in cps_data_china:\n",
    "    #corpus 속 숫자 제거\n",
    "    temp = re.sub('[0-9]+','',item)\n",
    "    tokens = tokenizer.tokenize(temp)\n",
    "    #1글자로 이루어진 단어 제거\n",
    "    tokens_overone = [word for word in tokens if len(word) > 1]\n",
    "    #stopword 제거\n",
    "    stopped_tokens = [i for i in tokens_overone if not i in stword]    \n",
    "    # ing형 제거\n",
    "    noning_tokens = [word for word in stopped_tokens if (re.findall('ing$', word) == [])]\n",
    "    # ly형 제거\n",
    "    nonly_tokens = [word for word in noning_tokens if (re.findall('ly$', word) == [])]\n",
    "    #각 단어 표제화\n",
    "    lemmatized_words = [wnl.lemmatize(i) for i in nonly_tokens]\n",
    "    #filtered_words = [word for word in lemmatized_words if not word in filter_words]\n",
    "    texts.append(lemmatized_words)\n",
    "\n",
    "\n",
    "limit = 5000\n",
    "num_tps = 5\n",
    "frequency = {}\n",
    "for corpus in texts:\n",
    "    for word in corpus:\n",
    "        if word in frequency.keys():\n",
    "            frequency[word] +=1\n",
    "        else:\n",
    "            frequency[word] = 1\n",
    "texts_filtered = [ [token for token in text if (1 < frequency[token]<limit)] for text in texts ]\n",
    "\n",
    "#표제화된 단어들을 이용하여 document-term 테이블 생성\n",
    "dictionary = Dictionary(texts_filtered)\n",
    "docfreq = dictionary.dfs\n",
    "doc_term_matrix = [dictionary.doc2bow(i) for i in texts]\n",
    "\n",
    "ldaModel = models.ldamodel.LdaModel(corpus=doc_term_matrix, num_topics = num_tps, id2word = dictionary, \n",
    "                                    passes=15, alpha = 'symmetric', iterations = 10)\n",
    "ldaTopics = ldaModel.print_topics(num_topics = num_tps, num_words = 15)\n",
    "keywords = []\n",
    "for i in range(len(ldaTopics)):\n",
    "    string = ''\n",
    "    for item in ldaTopics[i][1].split('+'):\n",
    "        string += (item.split('*')[1].replace(r'\"','') + '')\n",
    "    keywords.append(['Topic ' + str(ldaTopics[i][0])] + [string.replace(' ',', ')])\n",
    "topic_ratio = []\n",
    "for i in range(len(doc_term_matrix)):\n",
    "    topic_ratio.append(ldaModel[doc_term_matrix[i]])"
   ]
  },
  {
   "cell_type": "code",
   "execution_count": 536,
   "metadata": {},
   "outputs": [
    {
     "data": {
      "text/plain": [
       "[['Topic 0',\n",
       "  'health, research, care, medical, information, quality, healthcare, review, analysis, service, social, record, clinical, technology, user'],\n",
       " ['Topic 1',\n",
       "  'feature, algorithm, classification, image, proposed, performance, approach, deep, neural, accuracy, machine, set, paper, recognition, problem'],\n",
       " ['Topic 2',\n",
       "  'disease, risk, cancer, treatment, clinical, year, diabetes, age, mortality, group, associated, conclusion, factor, rate, among'],\n",
       " ['Topic 3',\n",
       "  'application, user, cloud, paper, sensor, time, device, proposed, scheme, mobile, security, privacy, service, activity, smart'],\n",
       " ['Topic 4',\n",
       "  'signal, sensor, activity, ecg, time, subject, detection, analysis, measurement, heart, motion, pressure, eeg, rate, gait']]"
      ]
     },
     "execution_count": 536,
     "metadata": {},
     "output_type": "execute_result"
    }
   ],
   "source": [
    "keywords"
   ]
  }
 ],
 "metadata": {
  "kernelspec": {
   "display_name": "Python 3 (ipykernel)",
   "language": "python",
   "name": "python3"
  },
  "language_info": {
   "codemirror_mode": {
    "name": "ipython",
    "version": 3
   },
   "file_extension": ".py",
   "mimetype": "text/x-python",
   "name": "python",
   "nbconvert_exporter": "python",
   "pygments_lexer": "ipython3",
   "version": "3.8.5"
  }
 },
 "nbformat": 4,
 "nbformat_minor": 4
}
